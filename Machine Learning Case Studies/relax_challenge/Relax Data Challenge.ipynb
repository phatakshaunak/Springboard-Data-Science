{
 "cells": [
  {
   "cell_type": "code",
   "execution_count": 250,
   "metadata": {},
   "outputs": [],
   "source": [
    "#Import all necessary modules\n",
    "from collections import defaultdict\n",
    "import glob\n",
    "import os\n",
    "import pandas as pd\n",
    "import numpy as np\n",
    "import matplotlib.pyplot as plt\n",
    "import matplotlib.gridspec as gridspec\n",
    "import seaborn as sns\n",
    "plt.style.use('ggplot')\n",
    "from sklearn.experimental import enable_iterative_imputer\n",
    "from sklearn.impute import IterativeImputer\n",
    "from sklearn.impute import SimpleImputer\n",
    "import scipy.stats as sc\n",
    "import statsmodels.api as sm\n",
    "from sklearn.linear_model import LogisticRegression\n",
    "from sklearn.ensemble import RandomForestClassifier\n",
    "from sklearn.ensemble import GradientBoostingClassifier\n",
    "from sklearn import svm\n",
    "%matplotlib inline \n",
    "from sklearn.linear_model import LogisticRegression\n",
    "from sklearn.ensemble import RandomForestClassifier\n",
    "from sklearn.model_selection import train_test_split, GridSearchCV, RandomizedSearchCV,cross_val_score\n",
    "from sklearn.metrics import roc_auc_score,accuracy_score,log_loss,confusion_matrix,classification_report,roc_curve\n",
    "from sklearn.metrics import f1_score, recall_score, precision_recall_curve, precision_score\n",
    "from sklearn.preprocessing import LabelEncoder, OneHotEncoder,StandardScaler\n",
    "from imblearn.over_sampling import RandomOverSampler, SMOTE\n",
    "from imblearn.under_sampling import RandomUnderSampler, TomekLinks, EditedNearestNeighbours\n",
    "from imblearn.combine import SMOTEENN, SMOTETomek\n",
    "from collections import Counter\n",
    "from sklearn.model_selection import cross_validate, cross_val_score, KFold, StratifiedKFold, RepeatedStratifiedKFold\n",
    "import category_encoders as ce\n",
    "from sklearn.metrics import plot_roc_curve\n",
    "from category_encoders import TargetEncoder\n",
    "from sklearn.decomposition import PCA\n",
    "from sklearn.svm import SVC\n",
    "from sklearn.pipeline import Pipeline, make_pipeline\n",
    "from sklearn.tree import DecisionTreeClassifier\n",
    "from sklearn.ensemble import AdaBoostClassifier\n",
    "from xgboost import XGBClassifier\n",
    "from catboost import CatBoostClassifier\n",
    "from lightgbm import LGBMClassifier\n",
    "from scipy import stats"
   ]
  },
  {
   "cell_type": "code",
   "execution_count": 251,
   "metadata": {},
   "outputs": [],
   "source": [
    "#Read in both the files\n",
    "df_user_eng = pd.read_csv('/Users/shaunakphatak/Desktop/Springboard-Data-Science-Projects/Springboard-Data-Science/Machine Learning Case Studies/relax_challenge/takehome_user_engagement.csv')\n",
    "df_users = pd.read_csv('/Users/shaunakphatak/Desktop/Springboard-Data-Science-Projects/Springboard-Data-Science/Machine Learning Case Studies/relax_challenge/takehome_users.csv',engine='python')"
   ]
  },
  {
   "cell_type": "code",
   "execution_count": 252,
   "metadata": {},
   "outputs": [
    {
     "data": {
      "text/html": [
       "<div>\n",
       "<style scoped>\n",
       "    .dataframe tbody tr th:only-of-type {\n",
       "        vertical-align: middle;\n",
       "    }\n",
       "\n",
       "    .dataframe tbody tr th {\n",
       "        vertical-align: top;\n",
       "    }\n",
       "\n",
       "    .dataframe thead th {\n",
       "        text-align: right;\n",
       "    }\n",
       "</style>\n",
       "<table border=\"1\" class=\"dataframe\">\n",
       "  <thead>\n",
       "    <tr style=\"text-align: right;\">\n",
       "      <th></th>\n",
       "      <th>time_stamp</th>\n",
       "      <th>user_id</th>\n",
       "      <th>visited</th>\n",
       "    </tr>\n",
       "  </thead>\n",
       "  <tbody>\n",
       "    <tr>\n",
       "      <th>0</th>\n",
       "      <td>2014-04-22 03:53:30</td>\n",
       "      <td>1</td>\n",
       "      <td>1</td>\n",
       "    </tr>\n",
       "    <tr>\n",
       "      <th>1</th>\n",
       "      <td>2013-11-15 03:45:04</td>\n",
       "      <td>2</td>\n",
       "      <td>1</td>\n",
       "    </tr>\n",
       "    <tr>\n",
       "      <th>2</th>\n",
       "      <td>2013-11-29 03:45:04</td>\n",
       "      <td>2</td>\n",
       "      <td>1</td>\n",
       "    </tr>\n",
       "    <tr>\n",
       "      <th>3</th>\n",
       "      <td>2013-12-09 03:45:04</td>\n",
       "      <td>2</td>\n",
       "      <td>1</td>\n",
       "    </tr>\n",
       "    <tr>\n",
       "      <th>4</th>\n",
       "      <td>2013-12-25 03:45:04</td>\n",
       "      <td>2</td>\n",
       "      <td>1</td>\n",
       "    </tr>\n",
       "  </tbody>\n",
       "</table>\n",
       "</div>"
      ],
      "text/plain": [
       "            time_stamp  user_id  visited\n",
       "0  2014-04-22 03:53:30        1        1\n",
       "1  2013-11-15 03:45:04        2        1\n",
       "2  2013-11-29 03:45:04        2        1\n",
       "3  2013-12-09 03:45:04        2        1\n",
       "4  2013-12-25 03:45:04        2        1"
      ]
     },
     "execution_count": 252,
     "metadata": {},
     "output_type": "execute_result"
    }
   ],
   "source": [
    "df_user_eng.head()"
   ]
  },
  {
   "cell_type": "code",
   "execution_count": 253,
   "metadata": {},
   "outputs": [
    {
     "data": {
      "text/plain": [
       "(207917, 3)"
      ]
     },
     "execution_count": 253,
     "metadata": {},
     "output_type": "execute_result"
    }
   ],
   "source": [
    "df_user_eng.shape"
   ]
  },
  {
   "cell_type": "code",
   "execution_count": 254,
   "metadata": {},
   "outputs": [],
   "source": [
    "#Convert to a date time object\n",
    "df_user_eng['time_stamp'] = pd.to_datetime(df_user_eng['time_stamp'])"
   ]
  },
  {
   "cell_type": "markdown",
   "metadata": {},
   "source": [
    "Defining an \"adopted user\" as a user who has logged into the product on three separate\n",
    "days in at least one sevenday\n",
    "period , identify which factors predict future user\n",
    "adoption ."
   ]
  },
  {
   "cell_type": "code",
   "execution_count": 255,
   "metadata": {},
   "outputs": [],
   "source": [
    "#Group by user id and resample by week aggregating as a sum\n",
    "df_user_grouped = df_user_eng.set_index('time_stamp').groupby('user_id').resample('W').sum()"
   ]
  },
  {
   "cell_type": "code",
   "execution_count": 256,
   "metadata": {},
   "outputs": [
    {
     "data": {
      "text/html": [
       "<div>\n",
       "<style scoped>\n",
       "    .dataframe tbody tr th:only-of-type {\n",
       "        vertical-align: middle;\n",
       "    }\n",
       "\n",
       "    .dataframe tbody tr th {\n",
       "        vertical-align: top;\n",
       "    }\n",
       "\n",
       "    .dataframe thead th {\n",
       "        text-align: right;\n",
       "    }\n",
       "</style>\n",
       "<table border=\"1\" class=\"dataframe\">\n",
       "  <thead>\n",
       "    <tr style=\"text-align: right;\">\n",
       "      <th></th>\n",
       "      <th></th>\n",
       "      <th>user_id</th>\n",
       "      <th>visited</th>\n",
       "    </tr>\n",
       "    <tr>\n",
       "      <th>user_id</th>\n",
       "      <th>time_stamp</th>\n",
       "      <th></th>\n",
       "      <th></th>\n",
       "    </tr>\n",
       "  </thead>\n",
       "  <tbody>\n",
       "    <tr>\n",
       "      <th>1</th>\n",
       "      <th>2014-04-27</th>\n",
       "      <td>1</td>\n",
       "      <td>1</td>\n",
       "    </tr>\n",
       "    <tr>\n",
       "      <th rowspan=\"4\" valign=\"top\">2</th>\n",
       "      <th>2013-11-17</th>\n",
       "      <td>2</td>\n",
       "      <td>1</td>\n",
       "    </tr>\n",
       "    <tr>\n",
       "      <th>2013-11-24</th>\n",
       "      <td>0</td>\n",
       "      <td>0</td>\n",
       "    </tr>\n",
       "    <tr>\n",
       "      <th>2013-12-01</th>\n",
       "      <td>2</td>\n",
       "      <td>1</td>\n",
       "    </tr>\n",
       "    <tr>\n",
       "      <th>2013-12-08</th>\n",
       "      <td>0</td>\n",
       "      <td>0</td>\n",
       "    </tr>\n",
       "  </tbody>\n",
       "</table>\n",
       "</div>"
      ],
      "text/plain": [
       "                    user_id  visited\n",
       "user_id time_stamp                  \n",
       "1       2014-04-27        1        1\n",
       "2       2013-11-17        2        1\n",
       "        2013-11-24        0        0\n",
       "        2013-12-01        2        1\n",
       "        2013-12-08        0        0"
      ]
     },
     "execution_count": 256,
     "metadata": {},
     "output_type": "execute_result"
    }
   ],
   "source": [
    "df_user_grouped.head()"
   ]
  },
  {
   "cell_type": "code",
   "execution_count": 257,
   "metadata": {},
   "outputs": [
    {
     "data": {
      "text/html": [
       "<div>\n",
       "<style scoped>\n",
       "    .dataframe tbody tr th:only-of-type {\n",
       "        vertical-align: middle;\n",
       "    }\n",
       "\n",
       "    .dataframe tbody tr th {\n",
       "        vertical-align: top;\n",
       "    }\n",
       "\n",
       "    .dataframe thead th {\n",
       "        text-align: right;\n",
       "    }\n",
       "</style>\n",
       "<table border=\"1\" class=\"dataframe\">\n",
       "  <thead>\n",
       "    <tr style=\"text-align: right;\">\n",
       "      <th></th>\n",
       "      <th>user_id</th>\n",
       "      <th>visited</th>\n",
       "      <th>adopt_bool</th>\n",
       "    </tr>\n",
       "  </thead>\n",
       "  <tbody>\n",
       "    <tr>\n",
       "      <th>0</th>\n",
       "      <td>1</td>\n",
       "      <td>1</td>\n",
       "      <td>0</td>\n",
       "    </tr>\n",
       "    <tr>\n",
       "      <th>1</th>\n",
       "      <td>2</td>\n",
       "      <td>1</td>\n",
       "      <td>0</td>\n",
       "    </tr>\n",
       "    <tr>\n",
       "      <th>2</th>\n",
       "      <td>2</td>\n",
       "      <td>0</td>\n",
       "      <td>0</td>\n",
       "    </tr>\n",
       "    <tr>\n",
       "      <th>3</th>\n",
       "      <td>2</td>\n",
       "      <td>1</td>\n",
       "      <td>0</td>\n",
       "    </tr>\n",
       "    <tr>\n",
       "      <th>4</th>\n",
       "      <td>2</td>\n",
       "      <td>0</td>\n",
       "      <td>0</td>\n",
       "    </tr>\n",
       "  </tbody>\n",
       "</table>\n",
       "</div>"
      ],
      "text/plain": [
       "   user_id  visited  adopt_bool\n",
       "0        1        1           0\n",
       "1        2        1           0\n",
       "2        2        0           0\n",
       "3        2        1           0\n",
       "4        2        0           0"
      ]
     },
     "execution_count": 257,
     "metadata": {},
     "output_type": "execute_result"
    }
   ],
   "source": [
    "#Create a boolean based on the sum for visited being 1 if it's >=3 and 0 otherwise\n",
    "df_user_ind = df_user_grouped.reset_index(level='time_stamp').drop(['user_id','time_stamp'],axis=1).reset_index()\n",
    "df_user_ind['adopt_bool'] = 0\n",
    "df_user_ind.loc[df_user_ind['visited']>=3,'adopt_bool']=1\n",
    "df_user_ind.head()"
   ]
  },
  {
   "cell_type": "code",
   "execution_count": 258,
   "metadata": {},
   "outputs": [],
   "source": [
    "#Again group by users to create a unique list of users and whether they are adopted users or not\n",
    "df_user_eng_list = df_user_ind.groupby('user_id').sum().reset_index()\n",
    "df_user_eng_list['adopted_user'] = 0\n",
    "df_user_eng_list.loc[df_user_eng_list['adopt_bool']!=0,'adopted_user'] = 1\n",
    "user_eng_list = df_user_eng_list[['user_id','adopted_user']]"
   ]
  },
  {
   "cell_type": "code",
   "execution_count": 259,
   "metadata": {},
   "outputs": [],
   "source": [
    "#Create a list of all users not in the engagement dataframe and assign them as non-adopted users\n",
    "non_eng_list = pd.DataFrame(list(set(df_users['object_id'])-set(user_eng_list['user_id']))).rename(columns={0:'user_id'})\n",
    "non_eng_list['adopted_user'] = 0\n",
    "all_users = pd.concat([user_eng_list,non_eng_list])\n",
    "#Dictionary of all users and their adopted user status\n",
    "user_dict = dict(zip(all_users['user_id'],all_users['adopted_user']))"
   ]
  },
  {
   "cell_type": "code",
   "execution_count": 260,
   "metadata": {},
   "outputs": [],
   "source": [
    "#Create an adopted user target variable for the users dataframe\n",
    "df_users_ad = df_users.copy()\n",
    "df_users_ad['adopted_user'] = df_users_ad['object_id'].map(user_dict)"
   ]
  },
  {
   "cell_type": "code",
   "execution_count": 261,
   "metadata": {},
   "outputs": [
    {
     "data": {
      "text/plain": [
       "0    0.879583\n",
       "1    0.120417\n",
       "Name: adopted_user, dtype: float64"
      ]
     },
     "execution_count": 261,
     "metadata": {},
     "output_type": "execute_result"
    }
   ],
   "source": [
    "df_users_ad['adopted_user'].value_counts(normalize=True)"
   ]
  },
  {
   "cell_type": "markdown",
   "metadata": {},
   "source": [
    "As seen above, the data is imbalanced in favor of non-adopted users"
   ]
  },
  {
   "cell_type": "code",
   "execution_count": 262,
   "metadata": {},
   "outputs": [
    {
     "data": {
      "text/html": [
       "<div>\n",
       "<style scoped>\n",
       "    .dataframe tbody tr th:only-of-type {\n",
       "        vertical-align: middle;\n",
       "    }\n",
       "\n",
       "    .dataframe tbody tr th {\n",
       "        vertical-align: top;\n",
       "    }\n",
       "\n",
       "    .dataframe thead th {\n",
       "        text-align: right;\n",
       "    }\n",
       "</style>\n",
       "<table border=\"1\" class=\"dataframe\">\n",
       "  <thead>\n",
       "    <tr style=\"text-align: right;\">\n",
       "      <th></th>\n",
       "      <th>object_id</th>\n",
       "      <th>creation_time</th>\n",
       "      <th>name</th>\n",
       "      <th>email</th>\n",
       "      <th>creation_source</th>\n",
       "      <th>last_session_creation_time</th>\n",
       "      <th>opted_in_to_mailing_list</th>\n",
       "      <th>enabled_for_marketing_drip</th>\n",
       "      <th>org_id</th>\n",
       "      <th>invited_by_user_id</th>\n",
       "      <th>adopted_user</th>\n",
       "    </tr>\n",
       "  </thead>\n",
       "  <tbody>\n",
       "    <tr>\n",
       "      <th>0</th>\n",
       "      <td>1</td>\n",
       "      <td>2014-04-22 03:53:30</td>\n",
       "      <td>Clausen August</td>\n",
       "      <td>AugustCClausen@yahoo.com</td>\n",
       "      <td>GUEST_INVITE</td>\n",
       "      <td>1.398139e+09</td>\n",
       "      <td>1</td>\n",
       "      <td>0</td>\n",
       "      <td>11</td>\n",
       "      <td>10803.0</td>\n",
       "      <td>0</td>\n",
       "    </tr>\n",
       "    <tr>\n",
       "      <th>1</th>\n",
       "      <td>2</td>\n",
       "      <td>2013-11-15 03:45:04</td>\n",
       "      <td>Poole Matthew</td>\n",
       "      <td>MatthewPoole@gustr.com</td>\n",
       "      <td>ORG_INVITE</td>\n",
       "      <td>1.396238e+09</td>\n",
       "      <td>0</td>\n",
       "      <td>0</td>\n",
       "      <td>1</td>\n",
       "      <td>316.0</td>\n",
       "      <td>1</td>\n",
       "    </tr>\n",
       "    <tr>\n",
       "      <th>2</th>\n",
       "      <td>3</td>\n",
       "      <td>2013-03-19 23:14:52</td>\n",
       "      <td>Bottrill Mitchell</td>\n",
       "      <td>MitchellBottrill@gustr.com</td>\n",
       "      <td>ORG_INVITE</td>\n",
       "      <td>1.363735e+09</td>\n",
       "      <td>0</td>\n",
       "      <td>0</td>\n",
       "      <td>94</td>\n",
       "      <td>1525.0</td>\n",
       "      <td>0</td>\n",
       "    </tr>\n",
       "    <tr>\n",
       "      <th>3</th>\n",
       "      <td>4</td>\n",
       "      <td>2013-05-21 08:09:28</td>\n",
       "      <td>Clausen Nicklas</td>\n",
       "      <td>NicklasSClausen@yahoo.com</td>\n",
       "      <td>GUEST_INVITE</td>\n",
       "      <td>1.369210e+09</td>\n",
       "      <td>0</td>\n",
       "      <td>0</td>\n",
       "      <td>1</td>\n",
       "      <td>5151.0</td>\n",
       "      <td>0</td>\n",
       "    </tr>\n",
       "    <tr>\n",
       "      <th>4</th>\n",
       "      <td>5</td>\n",
       "      <td>2013-01-17 10:14:20</td>\n",
       "      <td>Raw Grace</td>\n",
       "      <td>GraceRaw@yahoo.com</td>\n",
       "      <td>GUEST_INVITE</td>\n",
       "      <td>1.358850e+09</td>\n",
       "      <td>0</td>\n",
       "      <td>0</td>\n",
       "      <td>193</td>\n",
       "      <td>5240.0</td>\n",
       "      <td>0</td>\n",
       "    </tr>\n",
       "  </tbody>\n",
       "</table>\n",
       "</div>"
      ],
      "text/plain": [
       "   object_id        creation_time               name  \\\n",
       "0          1  2014-04-22 03:53:30     Clausen August   \n",
       "1          2  2013-11-15 03:45:04      Poole Matthew   \n",
       "2          3  2013-03-19 23:14:52  Bottrill Mitchell   \n",
       "3          4  2013-05-21 08:09:28    Clausen Nicklas   \n",
       "4          5  2013-01-17 10:14:20          Raw Grace   \n",
       "\n",
       "                        email creation_source  last_session_creation_time  \\\n",
       "0    AugustCClausen@yahoo.com    GUEST_INVITE                1.398139e+09   \n",
       "1      MatthewPoole@gustr.com      ORG_INVITE                1.396238e+09   \n",
       "2  MitchellBottrill@gustr.com      ORG_INVITE                1.363735e+09   \n",
       "3   NicklasSClausen@yahoo.com    GUEST_INVITE                1.369210e+09   \n",
       "4          GraceRaw@yahoo.com    GUEST_INVITE                1.358850e+09   \n",
       "\n",
       "   opted_in_to_mailing_list  enabled_for_marketing_drip  org_id  \\\n",
       "0                         1                           0      11   \n",
       "1                         0                           0       1   \n",
       "2                         0                           0      94   \n",
       "3                         0                           0       1   \n",
       "4                         0                           0     193   \n",
       "\n",
       "   invited_by_user_id  adopted_user  \n",
       "0             10803.0             0  \n",
       "1               316.0             1  \n",
       "2              1525.0             0  \n",
       "3              5151.0             0  \n",
       "4              5240.0             0  "
      ]
     },
     "execution_count": 262,
     "metadata": {},
     "output_type": "execute_result"
    }
   ],
   "source": [
    "df_users_ad.head()"
   ]
  },
  {
   "cell_type": "code",
   "execution_count": 263,
   "metadata": {},
   "outputs": [],
   "source": [
    "#Convert creation time and last session creation times to a date time object\n",
    "df_users_ad['last_session_creation_time'] = pd.to_datetime(df_users_ad['last_session_creation_time'],unit='s')\n",
    "df_users_ad['creation_time'] = pd.to_datetime(df_users_ad['creation_time'])"
   ]
  },
  {
   "cell_type": "code",
   "execution_count": 264,
   "metadata": {},
   "outputs": [
    {
     "name": "stdout",
     "output_type": "stream",
     "text": [
      "<class 'pandas.core.frame.DataFrame'>\n",
      "RangeIndex: 12000 entries, 0 to 11999\n",
      "Data columns (total 11 columns):\n",
      " #   Column                      Non-Null Count  Dtype         \n",
      "---  ------                      --------------  -----         \n",
      " 0   object_id                   12000 non-null  int64         \n",
      " 1   creation_time               12000 non-null  datetime64[ns]\n",
      " 2   name                        12000 non-null  object        \n",
      " 3   email                       12000 non-null  object        \n",
      " 4   creation_source             12000 non-null  object        \n",
      " 5   last_session_creation_time  8823 non-null   datetime64[ns]\n",
      " 6   opted_in_to_mailing_list    12000 non-null  int64         \n",
      " 7   enabled_for_marketing_drip  12000 non-null  int64         \n",
      " 8   org_id                      12000 non-null  int64         \n",
      " 9   invited_by_user_id          6417 non-null   float64       \n",
      " 10  adopted_user                12000 non-null  int64         \n",
      "dtypes: datetime64[ns](2), float64(1), int64(5), object(3)\n",
      "memory usage: 1.0+ MB\n"
     ]
    }
   ],
   "source": [
    "df_users_ad.info()"
   ]
  },
  {
   "cell_type": "code",
   "execution_count": 265,
   "metadata": {},
   "outputs": [],
   "source": [
    "#Create date time features for creation_time and last_session_creation_time\n",
    "def time_features(df,variable):\n",
    "    df[variable+'_Year'] = df[variable].dt.year\n",
    "    df[variable+'_Month_No'] = df[variable].dt.month\n",
    "    df[variable+'_Day_of_Week'] = df[variable].dt.dayofweek\n",
    "    df[variable+'_Hour'] = df[variable].dt.hour\n",
    "    df[variable+'_Day'] = df[variable].dt.day_name()\n",
    "    df[variable+'_Month'] = df[variable].dt.month_name()\n",
    "    df[variable+'_Y/M'] = (df[variable].dt.to_period('M')).dt.strftime('(%Y, %m)')\n",
    "    return df"
   ]
  },
  {
   "cell_type": "markdown",
   "metadata": {},
   "source": [
    "Extracting time features for creation time and last session creation time to analyze effects of month, day, hour on the count of adopted users"
   ]
  },
  {
   "cell_type": "code",
   "execution_count": 266,
   "metadata": {},
   "outputs": [],
   "source": [
    "#Extract time features\n",
    "df_users_ad = time_features(df_users_ad,'creation_time')\n",
    "df_users_ad = time_features(df_users_ad,'last_session_creation_time')"
   ]
  },
  {
   "cell_type": "code",
   "execution_count": 267,
   "metadata": {
    "scrolled": true
   },
   "outputs": [
    {
     "name": "stdout",
     "output_type": "stream",
     "text": [
      "<class 'pandas.core.frame.DataFrame'>\n",
      "RangeIndex: 12000 entries, 0 to 11999\n",
      "Data columns (total 25 columns):\n",
      " #   Column                                  Non-Null Count  Dtype         \n",
      "---  ------                                  --------------  -----         \n",
      " 0   object_id                               12000 non-null  int64         \n",
      " 1   creation_time                           12000 non-null  datetime64[ns]\n",
      " 2   name                                    12000 non-null  object        \n",
      " 3   email                                   12000 non-null  object        \n",
      " 4   creation_source                         12000 non-null  object        \n",
      " 5   last_session_creation_time              8823 non-null   datetime64[ns]\n",
      " 6   opted_in_to_mailing_list                12000 non-null  int64         \n",
      " 7   enabled_for_marketing_drip              12000 non-null  int64         \n",
      " 8   org_id                                  12000 non-null  int64         \n",
      " 9   invited_by_user_id                      6417 non-null   float64       \n",
      " 10  adopted_user                            12000 non-null  int64         \n",
      " 11  creation_time_Year                      12000 non-null  int64         \n",
      " 12  creation_time_Month_No                  12000 non-null  int64         \n",
      " 13  creation_time_Day_of_Week               12000 non-null  int64         \n",
      " 14  creation_time_Hour                      12000 non-null  int64         \n",
      " 15  creation_time_Day                       12000 non-null  object        \n",
      " 16  creation_time_Month                     12000 non-null  object        \n",
      " 17  creation_time_Y/M                       12000 non-null  object        \n",
      " 18  last_session_creation_time_Year         8823 non-null   float64       \n",
      " 19  last_session_creation_time_Month_No     8823 non-null   float64       \n",
      " 20  last_session_creation_time_Day_of_Week  8823 non-null   float64       \n",
      " 21  last_session_creation_time_Hour         8823 non-null   float64       \n",
      " 22  last_session_creation_time_Day          8823 non-null   object        \n",
      " 23  last_session_creation_time_Month        8823 non-null   object        \n",
      " 24  last_session_creation_time_Y/M          8823 non-null   object        \n",
      "dtypes: datetime64[ns](2), float64(5), int64(9), object(9)\n",
      "memory usage: 2.3+ MB\n"
     ]
    }
   ],
   "source": [
    "df_users_ad.info()"
   ]
  },
  {
   "cell_type": "markdown",
   "metadata": {},
   "source": [
    "Missing data columns such as invited by user id can be dropped. Regarding last session creation time, the missing rows could be imputed by an average date as long as it is the same or later than creation time.\n",
    "Alternatively, the missing rows also could be dropped directly."
   ]
  },
  {
   "cell_type": "code",
   "execution_count": 268,
   "metadata": {},
   "outputs": [
    {
     "data": {
      "text/html": [
       "<div>\n",
       "<style scoped>\n",
       "    .dataframe tbody tr th:only-of-type {\n",
       "        vertical-align: middle;\n",
       "    }\n",
       "\n",
       "    .dataframe tbody tr th {\n",
       "        vertical-align: top;\n",
       "    }\n",
       "\n",
       "    .dataframe thead th {\n",
       "        text-align: right;\n",
       "    }\n",
       "</style>\n",
       "<table border=\"1\" class=\"dataframe\">\n",
       "  <thead>\n",
       "    <tr style=\"text-align: right;\">\n",
       "      <th></th>\n",
       "      <th>object_id</th>\n",
       "      <th>creation_time</th>\n",
       "      <th>name</th>\n",
       "      <th>email</th>\n",
       "      <th>creation_source</th>\n",
       "      <th>last_session_creation_time</th>\n",
       "      <th>opted_in_to_mailing_list</th>\n",
       "      <th>enabled_for_marketing_drip</th>\n",
       "      <th>org_id</th>\n",
       "      <th>invited_by_user_id</th>\n",
       "      <th>...</th>\n",
       "      <th>creation_time_Day</th>\n",
       "      <th>creation_time_Month</th>\n",
       "      <th>creation_time_Y/M</th>\n",
       "      <th>last_session_creation_time_Year</th>\n",
       "      <th>last_session_creation_time_Month_No</th>\n",
       "      <th>last_session_creation_time_Day_of_Week</th>\n",
       "      <th>last_session_creation_time_Hour</th>\n",
       "      <th>last_session_creation_time_Day</th>\n",
       "      <th>last_session_creation_time_Month</th>\n",
       "      <th>last_session_creation_time_Y/M</th>\n",
       "    </tr>\n",
       "  </thead>\n",
       "  <tbody>\n",
       "    <tr>\n",
       "      <th>0</th>\n",
       "      <td>1</td>\n",
       "      <td>2014-04-22 03:53:30</td>\n",
       "      <td>Clausen August</td>\n",
       "      <td>AugustCClausen@yahoo.com</td>\n",
       "      <td>GUEST_INVITE</td>\n",
       "      <td>2014-04-22 03:53:30</td>\n",
       "      <td>1</td>\n",
       "      <td>0</td>\n",
       "      <td>11</td>\n",
       "      <td>10803.0</td>\n",
       "      <td>...</td>\n",
       "      <td>Tuesday</td>\n",
       "      <td>April</td>\n",
       "      <td>(2014, 04)</td>\n",
       "      <td>2014.0</td>\n",
       "      <td>4.0</td>\n",
       "      <td>1.0</td>\n",
       "      <td>3.0</td>\n",
       "      <td>Tuesday</td>\n",
       "      <td>April</td>\n",
       "      <td>(2014, 04)</td>\n",
       "    </tr>\n",
       "    <tr>\n",
       "      <th>1</th>\n",
       "      <td>2</td>\n",
       "      <td>2013-11-15 03:45:04</td>\n",
       "      <td>Poole Matthew</td>\n",
       "      <td>MatthewPoole@gustr.com</td>\n",
       "      <td>ORG_INVITE</td>\n",
       "      <td>2014-03-31 03:45:04</td>\n",
       "      <td>0</td>\n",
       "      <td>0</td>\n",
       "      <td>1</td>\n",
       "      <td>316.0</td>\n",
       "      <td>...</td>\n",
       "      <td>Friday</td>\n",
       "      <td>November</td>\n",
       "      <td>(2013, 11)</td>\n",
       "      <td>2014.0</td>\n",
       "      <td>3.0</td>\n",
       "      <td>0.0</td>\n",
       "      <td>3.0</td>\n",
       "      <td>Monday</td>\n",
       "      <td>March</td>\n",
       "      <td>(2014, 03)</td>\n",
       "    </tr>\n",
       "    <tr>\n",
       "      <th>2</th>\n",
       "      <td>3</td>\n",
       "      <td>2013-03-19 23:14:52</td>\n",
       "      <td>Bottrill Mitchell</td>\n",
       "      <td>MitchellBottrill@gustr.com</td>\n",
       "      <td>ORG_INVITE</td>\n",
       "      <td>2013-03-19 23:14:52</td>\n",
       "      <td>0</td>\n",
       "      <td>0</td>\n",
       "      <td>94</td>\n",
       "      <td>1525.0</td>\n",
       "      <td>...</td>\n",
       "      <td>Tuesday</td>\n",
       "      <td>March</td>\n",
       "      <td>(2013, 03)</td>\n",
       "      <td>2013.0</td>\n",
       "      <td>3.0</td>\n",
       "      <td>1.0</td>\n",
       "      <td>23.0</td>\n",
       "      <td>Tuesday</td>\n",
       "      <td>March</td>\n",
       "      <td>(2013, 03)</td>\n",
       "    </tr>\n",
       "    <tr>\n",
       "      <th>3</th>\n",
       "      <td>4</td>\n",
       "      <td>2013-05-21 08:09:28</td>\n",
       "      <td>Clausen Nicklas</td>\n",
       "      <td>NicklasSClausen@yahoo.com</td>\n",
       "      <td>GUEST_INVITE</td>\n",
       "      <td>2013-05-22 08:09:28</td>\n",
       "      <td>0</td>\n",
       "      <td>0</td>\n",
       "      <td>1</td>\n",
       "      <td>5151.0</td>\n",
       "      <td>...</td>\n",
       "      <td>Tuesday</td>\n",
       "      <td>May</td>\n",
       "      <td>(2013, 05)</td>\n",
       "      <td>2013.0</td>\n",
       "      <td>5.0</td>\n",
       "      <td>2.0</td>\n",
       "      <td>8.0</td>\n",
       "      <td>Wednesday</td>\n",
       "      <td>May</td>\n",
       "      <td>(2013, 05)</td>\n",
       "    </tr>\n",
       "    <tr>\n",
       "      <th>4</th>\n",
       "      <td>5</td>\n",
       "      <td>2013-01-17 10:14:20</td>\n",
       "      <td>Raw Grace</td>\n",
       "      <td>GraceRaw@yahoo.com</td>\n",
       "      <td>GUEST_INVITE</td>\n",
       "      <td>2013-01-22 10:14:20</td>\n",
       "      <td>0</td>\n",
       "      <td>0</td>\n",
       "      <td>193</td>\n",
       "      <td>5240.0</td>\n",
       "      <td>...</td>\n",
       "      <td>Thursday</td>\n",
       "      <td>January</td>\n",
       "      <td>(2013, 01)</td>\n",
       "      <td>2013.0</td>\n",
       "      <td>1.0</td>\n",
       "      <td>1.0</td>\n",
       "      <td>10.0</td>\n",
       "      <td>Tuesday</td>\n",
       "      <td>January</td>\n",
       "      <td>(2013, 01)</td>\n",
       "    </tr>\n",
       "  </tbody>\n",
       "</table>\n",
       "<p>5 rows × 25 columns</p>\n",
       "</div>"
      ],
      "text/plain": [
       "   object_id       creation_time               name  \\\n",
       "0          1 2014-04-22 03:53:30     Clausen August   \n",
       "1          2 2013-11-15 03:45:04      Poole Matthew   \n",
       "2          3 2013-03-19 23:14:52  Bottrill Mitchell   \n",
       "3          4 2013-05-21 08:09:28    Clausen Nicklas   \n",
       "4          5 2013-01-17 10:14:20          Raw Grace   \n",
       "\n",
       "                        email creation_source last_session_creation_time  \\\n",
       "0    AugustCClausen@yahoo.com    GUEST_INVITE        2014-04-22 03:53:30   \n",
       "1      MatthewPoole@gustr.com      ORG_INVITE        2014-03-31 03:45:04   \n",
       "2  MitchellBottrill@gustr.com      ORG_INVITE        2013-03-19 23:14:52   \n",
       "3   NicklasSClausen@yahoo.com    GUEST_INVITE        2013-05-22 08:09:28   \n",
       "4          GraceRaw@yahoo.com    GUEST_INVITE        2013-01-22 10:14:20   \n",
       "\n",
       "   opted_in_to_mailing_list  enabled_for_marketing_drip  org_id  \\\n",
       "0                         1                           0      11   \n",
       "1                         0                           0       1   \n",
       "2                         0                           0      94   \n",
       "3                         0                           0       1   \n",
       "4                         0                           0     193   \n",
       "\n",
       "   invited_by_user_id  ...  creation_time_Day  creation_time_Month  \\\n",
       "0             10803.0  ...            Tuesday                April   \n",
       "1               316.0  ...             Friday             November   \n",
       "2              1525.0  ...            Tuesday                March   \n",
       "3              5151.0  ...            Tuesday                  May   \n",
       "4              5240.0  ...           Thursday              January   \n",
       "\n",
       "   creation_time_Y/M  last_session_creation_time_Year  \\\n",
       "0         (2014, 04)                           2014.0   \n",
       "1         (2013, 11)                           2014.0   \n",
       "2         (2013, 03)                           2013.0   \n",
       "3         (2013, 05)                           2013.0   \n",
       "4         (2013, 01)                           2013.0   \n",
       "\n",
       "   last_session_creation_time_Month_No last_session_creation_time_Day_of_Week  \\\n",
       "0                                  4.0                                    1.0   \n",
       "1                                  3.0                                    0.0   \n",
       "2                                  3.0                                    1.0   \n",
       "3                                  5.0                                    2.0   \n",
       "4                                  1.0                                    1.0   \n",
       "\n",
       "  last_session_creation_time_Hour last_session_creation_time_Day  \\\n",
       "0                             3.0                        Tuesday   \n",
       "1                             3.0                         Monday   \n",
       "2                            23.0                        Tuesday   \n",
       "3                             8.0                      Wednesday   \n",
       "4                            10.0                        Tuesday   \n",
       "\n",
       "   last_session_creation_time_Month  last_session_creation_time_Y/M  \n",
       "0                             April                      (2014, 04)  \n",
       "1                             March                      (2014, 03)  \n",
       "2                             March                      (2013, 03)  \n",
       "3                               May                      (2013, 05)  \n",
       "4                           January                      (2013, 01)  \n",
       "\n",
       "[5 rows x 25 columns]"
      ]
     },
     "execution_count": 268,
     "metadata": {},
     "output_type": "execute_result"
    }
   ],
   "source": [
    "df_users_ad.head()"
   ]
  },
  {
   "cell_type": "markdown",
   "metadata": {},
   "source": [
    "Check the amount of adopted users grouped for month, day and hour"
   ]
  },
  {
   "cell_type": "code",
   "execution_count": 269,
   "metadata": {
    "scrolled": false
   },
   "outputs": [
    {
     "data": {
      "image/png": "[encoded data removed]",
      "text/plain": [
       "<Figure size 936x720 with 2 Axes>"
      ]
     },
     "metadata": {
      "needs_background": "light"
     },
     "output_type": "display_data"
    }
   ],
   "source": [
    "f,ax = plt.subplots(1,2,figsize=(13,10))\n",
    "day = ['Monday','Tuesday','Wednesday','Thursday','Friday','Saturday','Sunday']\n",
    "sns.countplot(y='creation_time_Day',order=day,data=df_users_ad[df_users_ad['adopted_user']==1],ax=ax[0])\n",
    "sns.countplot(y='creation_time_Hour',data=df_users_ad[df_users_ad['adopted_user']==1],ax=ax[1])\n",
    "plt.tight_layout()"
   ]
  },
  {
   "cell_type": "markdown",
   "metadata": {},
   "source": [
    "Not a lot of variation by day and hour based on creation time."
   ]
  },
  {
   "cell_type": "code",
   "execution_count": 270,
   "metadata": {
    "scrolled": true
   },
   "outputs": [
    {
     "data": {
      "image/png": "[encoded data removed]",
      "text/plain": [
       "<Figure size 1080x720 with 2 Axes>"
      ]
     },
     "metadata": {
      "needs_background": "light"
     },
     "output_type": "display_data"
    },
    {
     "data": {
      "text/plain": [
       "<Figure size 720x360 with 0 Axes>"
      ]
     },
     "metadata": {},
     "output_type": "display_data"
    }
   ],
   "source": [
    "f,ax = plt.subplots(1,2,figsize=(15,10))\n",
    "plt.figure(figsize=[10,5])\n",
    "mth = ['January','February','March','April','May','June','July','August','September','October','November','December']\n",
    "sns.countplot(y='creation_time_Month',order=mth,data=df_users_ad[df_users_ad['adopted_user']==1],ax=ax[0])\n",
    "data_cr = df_users_ad.set_index('creation_time_Y/M').sort_index()\n",
    "sns.countplot(y=data_cr.index,data=data_cr[data_cr['adopted_user']==1],ax=ax[1])\n",
    "plt.tight_layout()"
   ]
  },
  {
   "cell_type": "markdown",
   "metadata": {},
   "source": [
    "Some variation seen for creation time month and adopted users. As seen, the count of users went up consistently in 2014."
   ]
  },
  {
   "cell_type": "code",
   "execution_count": 271,
   "metadata": {
    "scrolled": false
   },
   "outputs": [
    {
     "data": {
      "image/png": "[encoded data removed]",
      "text/plain": [
       "<Figure size 1080x720 with 2 Axes>"
      ]
     },
     "metadata": {
      "needs_background": "light"
     },
     "output_type": "display_data"
    }
   ],
   "source": [
    "f,ax = plt.subplots(1,2,figsize=(15,10))\n",
    "day = ['Monday','Tuesday','Wednesday','Thursday','Friday','Saturday','Sunday']\n",
    "sns.countplot(y='last_session_creation_time_Day',order=day,data=df_users_ad[df_users_ad['adopted_user']==1],ax=ax[0])\n",
    "sns.countplot(y='last_session_creation_time_Hour',data=df_users_ad[df_users_ad['adopted_user']==1])\n",
    "plt.tight_layout()"
   ]
  },
  {
   "cell_type": "markdown",
   "metadata": {},
   "source": [
    "Last session creation days shows a large spike of adopted users during Wednesday"
   ]
  },
  {
   "cell_type": "code",
   "execution_count": 31,
   "metadata": {
    "scrolled": true
   },
   "outputs": [
    {
     "data": {
      "image/png": "[encoded data removed]",
      "text/plain": [
       "<Figure size 1080x720 with 2 Axes>"
      ]
     },
     "metadata": {
      "needs_background": "light"
     },
     "output_type": "display_data"
    },
    {
     "data": {
      "text/plain": [
       "<Figure size 720x360 with 0 Axes>"
      ]
     },
     "metadata": {},
     "output_type": "display_data"
    }
   ],
   "source": [
    "f,ax = plt.subplots(1,2,figsize=(15,10))\n",
    "mth = ['January','February','March','April','May','June','July','August','September','October','November','December']\n",
    "plt.figure(figsize=[10,5])\n",
    "sns.countplot(y='last_session_creation_time_Month',order=mth,data=df_users_ad[df_users_ad['adopted_user']==1],ax=ax[0])\n",
    "data_ls_cr = df_users_ad.set_index('last_session_creation_time_Y/M').sort_index()\n",
    "sns.countplot(y=data_ls_cr.index,data=data_ls_cr[data_ls_cr['adopted_user']==1],ax=ax[1])\n",
    "plt.tight_layout()"
   ]
  },
  {
   "cell_type": "markdown",
   "metadata": {},
   "source": [
    "May and June in 2014 had a significant spike of adopted users. This shows in the overall montly values for adopted users. Creation time also had more adopted users during April and May in 2014 than other months.\n",
    "Both creation time and last session time could have good predictive power"
   ]
  },
  {
   "cell_type": "code",
   "execution_count": 272,
   "metadata": {
    "scrolled": true
   },
   "outputs": [
    {
     "data": {
      "text/plain": [
       "ORG_INVITE            4254\n",
       "GUEST_INVITE          2163\n",
       "PERSONAL_PROJECTS     2111\n",
       "SIGNUP                2087\n",
       "SIGNUP_GOOGLE_AUTH    1385\n",
       "Name: creation_source, dtype: int64"
      ]
     },
     "execution_count": 272,
     "metadata": {},
     "output_type": "execute_result"
    }
   ],
   "source": [
    "df_users_ad['creation_source'].value_counts()"
   ]
  },
  {
   "cell_type": "code",
   "execution_count": 273,
   "metadata": {
    "scrolled": true
   },
   "outputs": [
    {
     "data": {
      "text/plain": [
       "<AxesSubplot:xlabel='count', ylabel='creation_source'>"
      ]
     },
     "execution_count": 273,
     "metadata": {},
     "output_type": "execute_result"
    },
    {
     "data": {
      "image/png": "[encoded data removed]",
      "text/plain": [
       "<Figure size 1080x504 with 1 Axes>"
      ]
     },
     "metadata": {
      "needs_background": "light"
     },
     "output_type": "display_data"
    }
   ],
   "source": [
    "plt.figure(figsize=[15,7])\n",
    "sns.countplot(y='creation_source',hue='adopted_user',data=df_users_ad)"
   ]
  },
  {
   "cell_type": "code",
   "execution_count": 34,
   "metadata": {
    "scrolled": true
   },
   "outputs": [
    {
     "data": {
      "text/plain": [
       "<AxesSubplot:xlabel='count', ylabel='creation_source'>"
      ]
     },
     "execution_count": 34,
     "metadata": {},
     "output_type": "execute_result"
    },
    {
     "data": {
      "image/png": "[encoded data removed]",
      "text/plain": [
       "<Figure size 1080x504 with 1 Axes>"
      ]
     },
     "metadata": {
      "needs_background": "light"
     },
     "output_type": "display_data"
    }
   ],
   "source": [
    "plt.figure(figsize=[15,7])\n",
    "sns.countplot(y='creation_source',data=df_users_ad[df_users_ad['adopted_user']==1])"
   ]
  },
  {
   "cell_type": "markdown",
   "metadata": {},
   "source": [
    "Highest adopted users based on org_invite"
   ]
  },
  {
   "cell_type": "code",
   "execution_count": 274,
   "metadata": {
    "scrolled": false
   },
   "outputs": [
    {
     "data": {
      "text/plain": [
       "0      319\n",
       "1      233\n",
       "2      201\n",
       "3      168\n",
       "4      159\n",
       "      ... \n",
       "396      9\n",
       "400      8\n",
       "397      8\n",
       "386      7\n",
       "416      2\n",
       "Name: org_id, Length: 417, dtype: int64"
      ]
     },
     "execution_count": 274,
     "metadata": {},
     "output_type": "execute_result"
    }
   ],
   "source": [
    "df_users_ad['org_id'].value_counts()"
   ]
  },
  {
   "cell_type": "code",
   "execution_count": 276,
   "metadata": {
    "scrolled": true
   },
   "outputs": [
    {
     "data": {
      "text/plain": [
       "<AxesSubplot:xlabel='count', ylabel='enabled_for_marketing_drip'>"
      ]
     },
     "execution_count": 276,
     "metadata": {},
     "output_type": "execute_result"
    },
    {
     "data": {
      "image/png": "[encoded data removed]",
      "text/plain": [
       "<Figure size 1080x504 with 2 Axes>"
      ]
     },
     "metadata": {
      "needs_background": "light"
     },
     "output_type": "display_data"
    }
   ],
   "source": [
    "f,ax = plt.subplots(1,2,figsize=(15,7))\n",
    "sns.countplot(y='opted_in_to_mailing_list',hue='adopted_user',data=df_users_ad,ax=ax[0])\n",
    "sns.countplot(y='enabled_for_marketing_drip',hue='adopted_user',data=df_users_ad,ax=ax[1])"
   ]
  },
  {
   "cell_type": "code",
   "execution_count": 38,
   "metadata": {
    "scrolled": true
   },
   "outputs": [
    {
     "data": {
      "text/plain": [
       "<AxesSubplot:xlabel='count', ylabel='enabled_for_marketing_drip'>"
      ]
     },
     "execution_count": 38,
     "metadata": {},
     "output_type": "execute_result"
    },
    {
     "data": {
      "image/png": "[encoded data removed]",
      "text/plain": [
       "<Figure size 1080x504 with 2 Axes>"
      ]
     },
     "metadata": {
      "needs_background": "light"
     },
     "output_type": "display_data"
    }
   ],
   "source": [
    "f,ax = plt.subplots(1,2,figsize=(15,7))\n",
    "sns.countplot(y='opted_in_to_mailing_list',data=df_users_ad[df_users_ad['adopted_user']==1],ax=ax[0])\n",
    "sns.countplot(y='enabled_for_marketing_drip',data=df_users_ad[df_users_ad['adopted_user']==1],ax=ax[1])"
   ]
  },
  {
   "cell_type": "markdown",
   "metadata": {},
   "source": [
    "Majority of the adopted users have not opted for mailing lists or marketing drips."
   ]
  },
  {
   "cell_type": "code",
   "execution_count": 39,
   "metadata": {
    "scrolled": false
   },
   "outputs": [
    {
     "name": "stdout",
     "output_type": "stream",
     "text": [
      "0      319\n",
      "1      233\n",
      "2      201\n",
      "3      168\n",
      "4      159\n",
      "      ... \n",
      "396      9\n",
      "400      8\n",
      "397      8\n",
      "386      7\n",
      "416      2\n",
      "Name: org_id, Length: 417, dtype: int64\n"
     ]
    },
    {
     "data": {
      "image/png": "[encoded data removed]",
      "text/plain": [
       "<Figure size 360x360 with 1 Axes>"
      ]
     },
     "metadata": {
      "needs_background": "light"
     },
     "output_type": "display_data"
    }
   ],
   "source": [
    "print(df_users_ad['org_id'].value_counts())\n",
    "sns.displot(df_users_ad[df_users_ad['adopted_user']==1]['org_id'],kde=False)\n",
    "plt.tight_layout()"
   ]
  },
  {
   "cell_type": "code",
   "execution_count": 277,
   "metadata": {
    "scrolled": true
   },
   "outputs": [],
   "source": [
    "def cyclic_feat(df,variable):\n",
    "    #Month Cyclicity\n",
    "    df[variable+'_sin'] = np.sin(df[variable]*(2*np.pi/12))\n",
    "    df[variable+'_cos'] = np.cos(df[variable]*(2*np.pi/12))\n",
    "    return df"
   ]
  },
  {
   "cell_type": "markdown",
   "metadata": {},
   "source": [
    "Cyclical nature of time features created from creation_time and last_session_creation_time can be preserved by transforming into sine and cosine components"
   ]
  },
  {
   "cell_type": "code",
   "execution_count": 278,
   "metadata": {},
   "outputs": [],
   "source": [
    "df_users_ad = cyclic_feat(df_users_ad,'creation_time_Month_No')\n",
    "df_users_ad = cyclic_feat(df_users_ad,'creation_time_Day_of_Week')\n",
    "df_users_ad = cyclic_feat(df_users_ad,'creation_time_Hour')\n",
    "df_users_ad = cyclic_feat(df_users_ad,'last_session_creation_time_Month_No')\n",
    "df_users_ad = cyclic_feat(df_users_ad,'last_session_creation_time_Day_of_Week')\n",
    "df_users_ad = cyclic_feat(df_users_ad,'last_session_creation_time_Hour')"
   ]
  },
  {
   "cell_type": "code",
   "execution_count": 282,
   "metadata": {},
   "outputs": [],
   "source": [
    "df_ml = df_users_ad.copy()"
   ]
  },
  {
   "cell_type": "markdown",
   "metadata": {},
   "source": [
    "Create dummy features for the creation source feature dropping the first column. Drop original extracted date features."
   ]
  },
  {
   "cell_type": "code",
   "execution_count": 283,
   "metadata": {
    "scrolled": false
   },
   "outputs": [
    {
     "data": {
      "text/plain": [
       "Index(['object_id', 'creation_time', 'name', 'email',\n",
       "       'last_session_creation_time', 'opted_in_to_mailing_list',\n",
       "       'enabled_for_marketing_drip', 'org_id', 'invited_by_user_id',\n",
       "       'adopted_user', 'creation_time_Year', 'creation_time_Month_No',\n",
       "       'creation_time_Day_of_Week', 'creation_time_Hour', 'creation_time_Day',\n",
       "       'creation_time_Month', 'creation_time_Y/M',\n",
       "       'last_session_creation_time_Year',\n",
       "       'last_session_creation_time_Month_No',\n",
       "       'last_session_creation_time_Day_of_Week',\n",
       "       'last_session_creation_time_Hour', 'last_session_creation_time_Day',\n",
       "       'last_session_creation_time_Month', 'last_session_creation_time_Y/M',\n",
       "       'creation_time_Month_No_sin', 'creation_time_Month_No_cos',\n",
       "       'creation_time_Day_of_Week_sin', 'creation_time_Day_of_Week_cos',\n",
       "       'creation_time_Hour_sin', 'creation_time_Hour_cos',\n",
       "       'last_session_creation_time_Month_No_sin',\n",
       "       'last_session_creation_time_Month_No_cos',\n",
       "       'last_session_creation_time_Day_of_Week_sin',\n",
       "       'last_session_creation_time_Day_of_Week_cos',\n",
       "       'last_session_creation_time_Hour_sin',\n",
       "       'last_session_creation_time_Hour_cos', 'creation_source_ORG_INVITE',\n",
       "       'creation_source_PERSONAL_PROJECTS', 'creation_source_SIGNUP',\n",
       "       'creation_source_SIGNUP_GOOGLE_AUTH'],\n",
       "      dtype='object')"
      ]
     },
     "execution_count": 283,
     "metadata": {},
     "output_type": "execute_result"
    }
   ],
   "source": [
    "dummies = pd.get_dummies(df_ml[['creation_source']],drop_first=True)\n",
    "df_ml = pd.concat([df_ml,dummies],axis=1)\n",
    "df_ml = df_ml.drop(['creation_source'],axis=1)\n",
    "#df_ml = df_ml.drop(['creation_time_Month_No','creation_time_Day_of_Week', 'creation_time_Hour',\n",
    "#                    'last_session_creation_time_Month_No','last_session_creation_time_Day_of_Week', \n",
    "#                    'last_session_creation_time_Hour'],axis=1)\n",
    "df_ml.columns"
   ]
  },
  {
   "cell_type": "code",
   "execution_count": 289,
   "metadata": {},
   "outputs": [],
   "source": [
    "clmns = ['opted_in_to_mailing_list','enabled_for_marketing_drip','adopted_user','creation_time_Month_No_sin', \n",
    "         'creation_time_Month_No_cos','creation_time_Day_of_Week_sin', 'creation_time_Day_of_Week_cos',\n",
    "         'creation_time_Hour_sin', 'creation_time_Hour_cos','last_session_creation_time_Month_No_sin',\n",
    "         'last_session_creation_time_Month_No_cos','last_session_creation_time_Day_of_Week_sin',\n",
    "         'last_session_creation_time_Day_of_Week_cos','last_session_creation_time_Hour_sin',\n",
    "         'last_session_creation_time_Hour_cos', 'creation_source_ORG_INVITE','creation_source_PERSONAL_PROJECTS', \n",
    "         'creation_source_SIGNUP','creation_source_SIGNUP_GOOGLE_AUTH']"
   ]
  },
  {
   "cell_type": "markdown",
   "metadata": {},
   "source": [
    "Drop unnecessary features. Also, drop missing rows for the last session creation time feature."
   ]
  },
  {
   "cell_type": "code",
   "execution_count": 287,
   "metadata": {},
   "outputs": [
    {
     "name": "stdout",
     "output_type": "stream",
     "text": [
      "<class 'pandas.core.frame.DataFrame'>\n",
      "Int64Index: 8823 entries, 0 to 11999\n",
      "Data columns (total 19 columns):\n",
      " #   Column                                      Non-Null Count  Dtype  \n",
      "---  ------                                      --------------  -----  \n",
      " 0   opted_in_to_mailing_list                    8823 non-null   int64  \n",
      " 1   enabled_for_marketing_drip                  8823 non-null   int64  \n",
      " 2   adopted_user                                8823 non-null   int64  \n",
      " 3   creation_time_Month_No_sin                  8823 non-null   float64\n",
      " 4   creation_time_Month_No_cos                  8823 non-null   float64\n",
      " 5   creation_time_Day_of_Week_sin               8823 non-null   float64\n",
      " 6   creation_time_Day_of_Week_cos               8823 non-null   float64\n",
      " 7   creation_time_Hour_sin                      8823 non-null   float64\n",
      " 8   creation_time_Hour_cos                      8823 non-null   float64\n",
      " 9   last_session_creation_time_Month_No_sin     8823 non-null   float64\n",
      " 10  last_session_creation_time_Month_No_cos     8823 non-null   float64\n",
      " 11  last_session_creation_time_Day_of_Week_sin  8823 non-null   float64\n",
      " 12  last_session_creation_time_Day_of_Week_cos  8823 non-null   float64\n",
      " 13  last_session_creation_time_Hour_sin         8823 non-null   float64\n",
      " 14  last_session_creation_time_Hour_cos         8823 non-null   float64\n",
      " 15  creation_source_ORG_INVITE                  8823 non-null   uint8  \n",
      " 16  creation_source_PERSONAL_PROJECTS           8823 non-null   uint8  \n",
      " 17  creation_source_SIGNUP                      8823 non-null   uint8  \n",
      " 18  creation_source_SIGNUP_GOOGLE_AUTH          8823 non-null   uint8  \n",
      "dtypes: float64(12), int64(3), uint8(4)\n",
      "memory usage: 1.1 MB\n"
     ]
    }
   ],
   "source": [
    "#df_ml['last_session_creation_time'] = df_ml['last_session_creation_time'].fillna(np.mean(df_ml['last_session_creation_time']))\n",
    "df_ml = df_ml[clmns]\n",
    "df_ml = df_ml.dropna()\n",
    "df_ml.info()"
   ]
  },
  {
   "cell_type": "code",
   "execution_count": 288,
   "metadata": {},
   "outputs": [],
   "source": [
    "#df_ml['active_days'] = (df_ml['last_session_creation_time'] - df_ml['creation_time']).dt.days.astype('float')"
   ]
  },
  {
   "cell_type": "code",
   "execution_count": 290,
   "metadata": {},
   "outputs": [],
   "source": [
    "#Resampling Data\n",
    "def resample_train(X_train,y_train,undersample=False,smote=False,smote_str =0.3,undersample_str=0.6):\n",
    "    #Resampling techniques\n",
    "    print('Pre-resampling ',Counter(y_train))\n",
    "    if smote == True:\n",
    "        sm = SMOTE(random_state=1,sampling_strategy=smote_str)\n",
    "        #sm = SMOTE(random_state=1)\n",
    "        X_train,y_train = sm.fit_resample(X_train,y_train)\n",
    "        print('Oversampling (SMOTE) Class 1 = {}X Class 0 '.format(smote_str),Counter(y_train))\n",
    "    #ros = RandomOverSampler()\n",
    "    #X_tr_ros, y_tr_ros = ros.fit_resample(X_train,y_train)\n",
    "    if undersample == True:\n",
    "        rus = RandomUnderSampler(sampling_strategy=undersample_str)\n",
    "        X_train, y_train = rus.fit_resample(X_train,y_train)\n",
    "        print('Undersampling Class 0 for Class 1 = {}X Class 0'.format(undersample_str),Counter(y_train))\n",
    "#     if smotetomek == True:\n",
    "#         print('Combining SMOTE and Tomek links...')\n",
    "#         smt = SMOTETomek(tomek=TomekLinks(sampling_strategy='majority'))\n",
    "#         X_train, y_train = smt.fit_resample(X_train,y_train)\n",
    "#         print('Combining SMOTE, TOMEK links, removing the majority class with Tomek links = {}'.format(Counter(y_train)))\n",
    "    return X_train, y_train\n",
    "\n",
    "# Classifier Results\n",
    "def model_metrics(y_true,y_predicted,y_pred_prob):\n",
    "    sns.heatmap(confusion_matrix(y_true,y_predicted),annot=True,fmt='g',cmap=\"Blues\")\n",
    "    plt.xlabel('Predicted Classes')\n",
    "    plt.ylabel('Observed Classes')\n",
    "    print('ROC_AUC Score: ' + str(roc_auc_score(y_true,y_pred_prob[:,1])))\n",
    "    print('Accuracy_Score: ' + str(accuracy_score(y_true,y_predicted)))\n",
    "    print('Precision_Score: ' + str(precision_score(y_true,y_predicted)))\n",
    "    print('F1 Score: ' + str(f1_score(y_true,y_predicted)))\n",
    "    print('Classification Report: ' + str(classification_report(y_true,y_predicted)))\n",
    "    \n",
    "# ROC / Precision Recall Curves\n",
    "def roc_prerec(y_true,y_pred_prob):\n",
    "    fpr, tpr, th = roc_curve(y_true,y_pred_prob[:,1])\n",
    "    plt.figure(figsize=[10,10])\n",
    "    plt.plot(fpr, tpr, linestyle='-.', label='Random Forest')\n",
    "    plt.xlabel('False Positive Rate')\n",
    "    plt.ylabel('True Positive Rate')\n",
    "    plt.legend()\n",
    "\n",
    "    pre, re, the = precision_recall_curve(y_true,y_pred_prob[:,1])\n",
    "    plt.figure(figsize=[10,10])\n",
    "    plt.plot(re, pre, linestyle='-.', label='Random Forest')\n",
    "    plt.xlabel('Precision')\n",
    "    plt.ylabel('Recall')\n",
    "    plt.legend()"
   ]
  },
  {
   "cell_type": "code",
   "execution_count": 292,
   "metadata": {},
   "outputs": [],
   "source": [
    "X = df_ml.drop('adopted_user',axis=1)\n",
    "y = df_ml['adopted_user']\n",
    "X_train,X_test,y_train,y_test = train_test_split(X,y,test_size=0.2,stratify=y)\n",
    "#X_train,y_train = resample_train(X_train,y_train,smote=True,smote_str=1,undersample=False,undersample_str=0.5)\n",
    "model = LGBMClassifier()\n",
    "model.fit(X_train,y_train)\n",
    "y_tr_pred = model.predict(X_train)\n",
    "y_tr_pred_prob = model.predict_proba(X_train)\n",
    "y_te_pred = model.predict(X_test)\n",
    "y_te_pred_prob = model.predict_proba(X_test)"
   ]
  },
  {
   "cell_type": "code",
   "execution_count": 293,
   "metadata": {
    "scrolled": true
   },
   "outputs": [
    {
     "name": "stdout",
     "output_type": "stream",
     "text": [
      "ROC_AUC Score: 0.9972941844826515\n",
      "Accuracy_Score: 0.979597619722301\n",
      "Precision_Score: 0.9693877551020408\n",
      "F1 Score: 0.9355416293643689\n",
      "Classification Report:               precision    recall  f1-score   support\n",
      "\n",
      "           0       0.98      0.99      0.99      5902\n",
      "           1       0.97      0.90      0.94      1156\n",
      "\n",
      "    accuracy                           0.98      7058\n",
      "   macro avg       0.98      0.95      0.96      7058\n",
      "weighted avg       0.98      0.98      0.98      7058\n",
      "\n"
     ]
    },
    {
     "data": {
      "image/png": "[encoded data removed]",
      "text/plain": [
       "<Figure size 432x288 with 2 Axes>"
      ]
     },
     "metadata": {
      "needs_background": "light"
     },
     "output_type": "display_data"
    }
   ],
   "source": [
    "model_metrics(y_train,y_tr_pred,y_tr_pred_prob)"
   ]
  },
  {
   "cell_type": "code",
   "execution_count": 294,
   "metadata": {
    "scrolled": true
   },
   "outputs": [
    {
     "name": "stdout",
     "output_type": "stream",
     "text": [
      "ROC_AUC Score: 0.9693164448945528\n",
      "Accuracy_Score: 0.9376770538243626\n",
      "Precision_Score: 0.8377358490566038\n",
      "F1 Score: 0.8014440433212996\n",
      "Classification Report:               precision    recall  f1-score   support\n",
      "\n",
      "           0       0.96      0.97      0.96      1476\n",
      "           1       0.84      0.77      0.80       289\n",
      "\n",
      "    accuracy                           0.94      1765\n",
      "   macro avg       0.90      0.87      0.88      1765\n",
      "weighted avg       0.94      0.94      0.94      1765\n",
      "\n"
     ]
    },
    {
     "data": {
      "image/png": "[encoded data removed]",
      "text/plain": [
       "<Figure size 432x288 with 2 Axes>"
      ]
     },
     "metadata": {
      "needs_background": "light"
     },
     "output_type": "display_data"
    }
   ],
   "source": [
    "model_metrics(y_test,y_te_pred,y_te_pred_prob)"
   ]
  },
  {
   "cell_type": "code",
   "execution_count": 295,
   "metadata": {},
   "outputs": [],
   "source": [
    "features = pd.DataFrame(model.feature_importances_, X.columns).reset_index().rename(columns={'index':'feature',0:'importance'})"
   ]
  },
  {
   "cell_type": "code",
   "execution_count": 301,
   "metadata": {
    "scrolled": false
   },
   "outputs": [
    {
     "data": {
      "image/png": "[encoded data removed]",
      "text/plain": [
       "<Figure size 720x432 with 1 Axes>"
      ]
     },
     "metadata": {
      "needs_background": "light"
     },
     "output_type": "display_data"
    }
   ],
   "source": [
    "plt.figure(figsize=(10,6))\n",
    "feat_imp = sns.barplot(y='feature', x='importance',data=features.nlargest(100,'importance'));\n",
    "plt.tight_layout()\n",
    "feat_imp.get_figure().savefig('/Users/shaunakphatak/Desktop/Springboard-Data-Science-Projects/Springboard-Data-Science/Machine Learning Case Studies/relax_challenge/feat_imp.png')"
   ]
  },
  {
   "cell_type": "markdown",
   "metadata": {},
   "source": [
    "As seen from the plot above, date features extracted from the creation_time and last_session_creation_time_feature account for most of the predictive power of the light gradient boost model. The model was fit dropping the missing rows for last session time. It may be imputed with a mean last session date to incorporate more information although it may be very simplistic in assuming an average session."
   ]
  },
  {
   "cell_type": "code",
   "execution_count": null,
   "metadata": {},
   "outputs": [],
   "source": []
  }
 ],
 "metadata": {
  "kernelspec": {
   "display_name": "Python 3",
   "language": "python",
   "name": "python3"
  },
  "language_info": {
   "codemirror_mode": {
    "name": "ipython",
    "version": 3
   },
   "file_extension": ".py",
   "mimetype": "text/x-python",
   "name": "python",
   "nbconvert_exporter": "python",
   "pygments_lexer": "ipython3",
   "version": "3.8.3"
  }
 },
 "nbformat": 4,
 "nbformat_minor": 4
}
