{
 "cells": [
  {
   "cell_type": "code",
   "execution_count": 39,
   "metadata": {},
   "outputs": [],
   "source": [
    "import pandas as pd\n",
    "import matplotlib.pyplot as plt\n",
    "import numpy as np\n",
    "import requests\n",
    "import pickle\n",
    "import re\n",
    "import seaborn as sns\n",
    "import scipy\n",
    "import statsmodels.api as sm\n",
    "plt.style.use('ggplot')\n",
    "# pd.options.display.float_format = '{:.2f}'.format\n",
    "# #pd.reset_option('display.float_format')"
   ]
  },
  {
   "cell_type": "code",
   "execution_count": 58,
   "metadata": {},
   "outputs": [
    {
     "data": {
      "text/plain": [
       "[<matplotlib.lines.Line2D at 0x7f8dab760a30>]"
      ]
     },
     "execution_count": 58,
     "metadata": {},
     "output_type": "execute_result"
    },
    {
     "data": {
      "image/png": "[encoded data removed]",
      "text/plain": [
       "<Figure size 432x288 with 1 Axes>"
      ]
     },
     "metadata": {},
     "output_type": "display_data"
    }
   ],
   "source": [
    "p=0.15\n",
    "n=700\n",
    "val = np.arange(0,n+1,1)\n",
    "dist = [binom.pmf(r,n,p) for r in val]\n",
    "plt.plot(dist)"
   ]
  },
  {
   "cell_type": "code",
   "execution_count": 51,
   "metadata": {},
   "outputs": [
    {
     "data": {
      "text/plain": [
       "[<matplotlib.lines.Line2D at 0x7f8dab149850>]"
      ]
     },
     "execution_count": 51,
     "metadata": {},
     "output_type": "execute_result"
    },
    {
     "data": {
      "image/png": "[encoded data removed]",
      "text/plain": [
       "<Figure size 432x288 with 1 Axes>"
      ]
     },
     "metadata": {},
     "output_type": "display_data"
    }
   ],
   "source": [
    "pt = np.linspace(0,100,101)\n",
    "pmf = binom.pmf(pt,100,0.15)\n",
    "plt.plot(pt,pmf)"
   ]
  },
  {
   "cell_type": "code",
   "execution_count": 2,
   "metadata": {},
   "outputs": [],
   "source": [
    "#List of winners and all candidates during 2009, 2014 and 2019 (Download all candidate datasets)\n",
    "\n",
    "url_2009 = 'https://myneta.info/ls2009/index.php?action=summary&subAction=candidates_analyzed&sort=candidate#summary'\n",
    "url_2014 = 'https://myneta.info/ls2014/index.php?action=summary&subAction=candidates_analyzed&sort=candidate#summary'\n",
    "url_2019 = 'https://myneta.info/LokSabha2019/index.php?action=summary&subAction=candidates_analyzed&sort=candidate#summary'\n",
    "url_2009_w = 'https://myneta.info/ls2009/index.php?action=summary&subAction=winner_analyzed&sort=candidate#summary'\n",
    "url_2014_w = 'https://myneta.info/ls2014/index.php?action=summary&subAction=winner_analyzed&sort=candidate#summary'\n",
    "url_2019_w = 'https://myneta.info/LokSabha2019/index.php?action=summary&subAction=winner_analyzed&sort=candidate#summary'\n",
    "all_data = []\n",
    "lk_win = []\n",
    "\n",
    "#Download the html pages and store as lists\n",
    "for url in [url_2009,url_2014,url_2019]:\n",
    "    html = requests.get(url).content\n",
    "    df_list = pd.read_html(html)\n",
    "    all_data.append(df_list)\n",
    "\n",
    "for url in [url_2009_w,url_2014_w,url_2019_w]:\n",
    "    html = requests.get(url).content\n",
    "    df_list = pd.read_html(html)\n",
    "    lk_win.append(df_list)"
   ]
  },
  {
   "cell_type": "code",
   "execution_count": 203,
   "metadata": {},
   "outputs": [],
   "source": [
    "#Collect state wise tables for 2014\n",
    "state_url = 'https://myneta.info/ls2014/index.php?action=show_constituencies&state_id='\n",
    "state_map = {1:'Andhra_Pradesh',2:'Arunachal_Pradesh',3:'Assam',4:'Bihar',5:'Goa',6:'Gujarat',\n",
    "             7:'Haryana',8:'Himachal_Pradesh',9:'Jammu_Kashmir',10:'Karnataka',11:'Kerala',\n",
    "             12:'Madhya_Pradesh',13:'Maharashtra',14:'Manipur',15:'Meghalaya',16:'Mizoram',\n",
    "             17:'Nagaland',18:'Orissa',19:'Punjab',20:'Rajasthan',21:'Sikkim',22:'Tamil_Nadu',\n",
    "             23:'Tripura',24:'Uttar_Pradesh',25:'West_Bengal',26:'Chattisgarh',27:'Jharkhand',\n",
    "             28:'Uttarakhand',29:'Andaman_Nicobar',30:'Chandigarh',31:'Dadra_Nagar',32:'Diu_Daman',\n",
    "             33:'NCR_Delhi',34:'Lakshadweep',35:'Puducherry',36:'Telangana'}\n",
    "\n",
    "state_wise = {}\n",
    "for a in state_map.keys():\n",
    "    url = state_url + str(a)\n",
    "    html = requests.get(url).content\n",
    "    df = pd.read_html(html)\n",
    "    state_wise[state_map[a]] = df\n",
    "with open('state_level.pkl', 'wb') as f:\n",
    "    pickle.dump(state_wise,f)"
   ]
  },
  {
   "cell_type": "code",
   "execution_count": 273,
   "metadata": {},
   "outputs": [],
   "source": [
    "# with open('all_data.pkl', 'wb') as f:\n",
    "#     pickle.dump(all_data,f)\n",
    "# with open('lk_win.pkl', 'wb') as f:\n",
    "#     pickle.dump(lk_win,f)\n",
    "\n",
    "# with open('all_data.pkl', 'rb') as f:\n",
    "#     test = pickle.load(f)"
   ]
  },
  {
   "cell_type": "code",
   "execution_count": 218,
   "metadata": {},
   "outputs": [],
   "source": [
    "#Clean collected data\n",
    "def data_clean(data):\n",
    "    dict_clean = {}\n",
    "    years = ['2009','2014','2019']\n",
    "    p = '[^0-9]'\n",
    "    a = ['Candidate∇', 'Criminal Cases','Total Assets', 'Liabilities']\n",
    "    b = ['Candidate', 'Criminal_Case','Assets', 'Liabilities']\n",
    "    cols = dict(zip(a,b))\n",
    "    #for a in range(len(data)):\n",
    "    for a in data.keys():\n",
    "        df = data[a][2].copy()\n",
    "        #df.columns = df.columns.get_level_values(1)\n",
    "        #df = df.drop(['Sno','Unnamed: 8_level_1','Unnamed: 9_level_1'],axis=1)\n",
    "        df = df.drop(['Sno'],axis=1)\n",
    "        df.loc[df['Total Assets']=='Nil','Total Assets'] = 0\n",
    "        df['Total Assets'] = pd.to_numeric(df['Total Assets'].str.split('~').str[0].str.replace(p,''))\n",
    "        df['Total Assets']= df['Total Assets'].fillna(0)\n",
    "        df['Liabilities'] = pd.to_numeric(df['Liabilities'].str.split('~').str[0].str.replace(p,''))\n",
    "        df.rename(columns=cols,inplace=True)\n",
    "        df['Net_Assets'] = df['Assets'] - df['Liabilities']\n",
    "        #dict_clean[years[a]] = df\n",
    "        dict_clean[a] = df\n",
    "    return dict_clean"
   ]
  },
  {
   "cell_type": "code",
   "execution_count": 224,
   "metadata": {},
   "outputs": [],
   "source": [
    "412115# state_wise_clean = data_clean(state_wise)\n",
    "# with open('state_level_clean.pkl', 'wb') as f:\n",
    "#     pickle.dump(state_wise_clean,f)"
   ]
  },
  {
   "cell_type": "code",
   "execution_count": 102,
   "metadata": {},
   "outputs": [],
   "source": [
    "all_candidates = data_clean(all_data)\n",
    "win_candidates = data_clean(lk_win)\n",
    "years = ['2009','2014','2019']\n",
    "final_data = {}\n",
    "cols = ['Candidate', 'Constituency', 'Party', 'Criminal_Case', 'Education',\n",
    "        'Assets', 'Liabilities', 'Net_Assets']\n",
    "for a in range(len(all_candidates)):\n",
    "    df_all = all_candidates[years[a]].copy()\n",
    "    df_win = win_candidates[years[a]].copy()\n",
    "    df_all['Winners'] = 0\n",
    "    df_win['Winners'] = 1\n",
    "    ct = pd.concat([df_all,df_win])\n",
    "    ct = ct.groupby(cols).max()['Winners'].reset_index()\n",
    "    final_data[years[a]] = ct\n",
    "with open('all_candidates.pkl', 'wb') as f:\n",
    "    pickle.dump(all_data,f)\n",
    "with open('win_candidates.pkl', 'wb') as f:\n",
    "    pickle.dump(lk_win,f)\n",
    "with open('final_candidate_list.pkl', 'wb') as f:\n",
    "    pickle.dump(final_data,f)"
   ]
  },
  {
   "cell_type": "code",
   "execution_count": 24,
   "metadata": {},
   "outputs": [],
   "source": [
    "grad_h = ['Graduate','Post Graduate', 'Graduate Professional','Doctorate']\n",
    "# We are assuming some ambiguous values such as not given, literate, others as below the graduate level\n",
    "\n",
    "df_2009['criminal_charge'] = np.where(df_2009['Criminal_Case']>0,1,0)\n",
    "df_2009['grad_h'] = np.where(df_2009['Education'].isin(grad_h), 1, 0)\n",
    "\n",
    "df_2014['criminal_charge'] = np.where(df_2014['Criminal_Case']>0,1,0)\n",
    "df_2014['grad_h'] = np.where(df_2014['Education'].isin(grad_h), 1, 0)\n",
    "\n",
    "df_2019['criminal_charge'] = np.where(df_2019['Criminal_Case']>0,1,0)\n",
    "df_2019['grad_h'] = np.where(df_2019['Education'].isin(grad_h), 1, 0)"
   ]
  },
  {
   "cell_type": "code",
   "execution_count": 241,
   "metadata": {},
   "outputs": [],
   "source": [
    "# with open('state_level_clean.pkl', 'wb') as f:\n",
    "#     pickle.dump(state_wise_clean,f)"
   ]
  },
  {
   "cell_type": "code",
   "execution_count": 2,
   "metadata": {},
   "outputs": [],
   "source": [
    "# with open('all_2009.pkl', 'wb') as f:\n",
    "#     pickle.dump(df_2009,f)\n",
    "# with open('all_2014.pkl', 'wb') as f:\n",
    "#     pickle.dump(df_2014,f)\n",
    "# with open('all_2019.pkl', 'wb') as f:\n",
    "#     pickle.dump(df_2019,f)\n",
    "# df_2009 = final_data['2009']\n",
    "# df_2014 = final_data['2014']\n",
    "# df_2019 = final_data['2019']\n",
    "with open('all_2009.pkl', 'rb') as f:\n",
    "    df_2009 = pickle.load(f)\n",
    "with open('all_2014.pkl', 'rb') as f:\n",
    "    df_2014 = pickle.load(f)\n",
    "with open('all_2019.pkl', 'rb') as f:\n",
    "    df_2019 = pickle.load(f)"
   ]
  },
  {
   "cell_type": "code",
   "execution_count": 278,
   "metadata": {},
   "outputs": [
    {
     "data": {
      "text/html": [
       "<div>\n",
       "<style scoped>\n",
       "    .dataframe tbody tr th:only-of-type {\n",
       "        vertical-align: middle;\n",
       "    }\n",
       "\n",
       "    .dataframe tbody tr th {\n",
       "        vertical-align: top;\n",
       "    }\n",
       "\n",
       "    .dataframe thead th {\n",
       "        text-align: right;\n",
       "    }\n",
       "</style>\n",
       "<table border=\"1\" class=\"dataframe\">\n",
       "  <thead>\n",
       "    <tr style=\"text-align: right;\">\n",
       "      <th></th>\n",
       "      <th>Candidate</th>\n",
       "      <th>Constituency</th>\n",
       "      <th>Party</th>\n",
       "      <th>Criminal_Case</th>\n",
       "      <th>Education</th>\n",
       "      <th>Assets</th>\n",
       "      <th>Liabilities</th>\n",
       "      <th>Net_Assets</th>\n",
       "      <th>Winners</th>\n",
       "      <th>criminal_charge</th>\n",
       "      <th>grad_h</th>\n",
       "    </tr>\n",
       "  </thead>\n",
       "  <tbody>\n",
       "    <tr>\n",
       "      <th>0</th>\n",
       "      <td>\"SUDAROLI\" MURUGAN S. B.COM.,</td>\n",
       "      <td>Tirunelveli</td>\n",
       "      <td>IND</td>\n",
       "      <td>0</td>\n",
       "      <td>Not Given</td>\n",
       "      <td>54652.0</td>\n",
       "      <td>67100</td>\n",
       "      <td>-12448.0</td>\n",
       "      <td>0</td>\n",
       "      <td>0</td>\n",
       "      <td>0</td>\n",
       "    </tr>\n",
       "    <tr>\n",
       "      <th>1</th>\n",
       "      <td>(AIDS MAN) PRAKASH TATERAO LANDGE</td>\n",
       "      <td>Nanded</td>\n",
       "      <td>IND</td>\n",
       "      <td>0</td>\n",
       "      <td>Graduate</td>\n",
       "      <td>350000.0</td>\n",
       "      <td>0</td>\n",
       "      <td>350000.0</td>\n",
       "      <td>0</td>\n",
       "      <td>0</td>\n",
       "      <td>1</td>\n",
       "    </tr>\n",
       "    <tr>\n",
       "      <th>2</th>\n",
       "      <td>A Arokiasamy</td>\n",
       "      <td>Palakkad</td>\n",
       "      <td>IND</td>\n",
       "      <td>0</td>\n",
       "      <td>10th Pass</td>\n",
       "      <td>32000.0</td>\n",
       "      <td>0</td>\n",
       "      <td>32000.0</td>\n",
       "      <td>0</td>\n",
       "      <td>0</td>\n",
       "      <td>0</td>\n",
       "    </tr>\n",
       "    <tr>\n",
       "      <th>3</th>\n",
       "      <td>A B SINGH</td>\n",
       "      <td>Chittorgarh</td>\n",
       "      <td>BSP</td>\n",
       "      <td>0</td>\n",
       "      <td>Post Graduate</td>\n",
       "      <td>3347551.0</td>\n",
       "      <td>0</td>\n",
       "      <td>3347551.0</td>\n",
       "      <td>0</td>\n",
       "      <td>0</td>\n",
       "      <td>1</td>\n",
       "    </tr>\n",
       "    <tr>\n",
       "      <th>4</th>\n",
       "      <td>A Gumpa Swamy</td>\n",
       "      <td>Araku</td>\n",
       "      <td>IND</td>\n",
       "      <td>0</td>\n",
       "      <td>Illiterate</td>\n",
       "      <td>0.0</td>\n",
       "      <td>0</td>\n",
       "      <td>0.0</td>\n",
       "      <td>0</td>\n",
       "      <td>0</td>\n",
       "      <td>0</td>\n",
       "    </tr>\n",
       "  </tbody>\n",
       "</table>\n",
       "</div>"
      ],
      "text/plain": [
       "                           Candidate Constituency Party  Criminal_Case  \\\n",
       "0      \"SUDAROLI\" MURUGAN S. B.COM.,  Tirunelveli   IND              0   \n",
       "1  (AIDS MAN) PRAKASH TATERAO LANDGE       Nanded   IND              0   \n",
       "2                       A Arokiasamy     Palakkad   IND              0   \n",
       "3                          A B SINGH  Chittorgarh   BSP              0   \n",
       "4                      A Gumpa Swamy        Araku   IND              0   \n",
       "\n",
       "       Education     Assets  Liabilities  Net_Assets  Winners  \\\n",
       "0      Not Given    54652.0        67100    -12448.0        0   \n",
       "1       Graduate   350000.0            0    350000.0        0   \n",
       "2      10th Pass    32000.0            0     32000.0        0   \n",
       "3  Post Graduate  3347551.0            0   3347551.0        0   \n",
       "4     Illiterate        0.0            0         0.0        0   \n",
       "\n",
       "   criminal_charge  grad_h  \n",
       "0                0       0  \n",
       "1                0       1  \n",
       "2                0       0  \n",
       "3                0       1  \n",
       "4                0       0  "
      ]
     },
     "execution_count": 278,
     "metadata": {},
     "output_type": "execute_result"
    }
   ],
   "source": [
    "df_2009.head()"
   ]
  },
  {
   "cell_type": "markdown",
   "metadata": {},
   "source": [
    "# Hypotheses to be tested with candidate data\n",
    "\n",
    "1. The net assets of candidates has increased in 2014 compared to 2009. \n",
    "2. The proportion of candidates with a criminal record has increased in 2014 compared to 2009. \n",
    "3. The proportion of candidates with a graduate level education or higher has increased in 2014 compared to 2009\n",
    "4. Is having a criminal case registered related to a candidate's level of education ?\n",
    "5. The proportion of winners with a criminal record has increased from 2009 to 2014\n",
    "6. The proportion of winners with a graduate level education or higher has gone up between 2009 to 2014"
   ]
  },
  {
   "cell_type": "markdown",
   "metadata": {},
   "source": [
    "### 1. The net assets of all candidates has increased in 2014 compared to 2009. \n",
    "\n",
    "1. We can use a 1-sample t-test to test this hypothesis. Assume we know the mean net asset value for candidates in 2009\n",
    "    This test requires the following conditions:\n",
    "    1. Choosing a random sample\n",
    "    2. Independence condition (Choose less than or equal to 10% of the population)\n",
    "    3. Normal condition (sampling dist of sample mean can be approximated as normal) if any of following is satisfyed\n",
    "        1. If parent population is normal\n",
    "        2. Sample size >= 30\n",
    "        3. Sample distribution is not skewed or has outliers\n",
    "        \n",
    "1. Null Hypothesis: The average net assets for 2014 are equal to the average net assets for 2009\n",
    "2. Alternate Hypothesis: The average net assets in 2014 are higher than in 2009 (1-tailed test)\n",
    "- Significance Level: 5%"
   ]
  },
  {
   "cell_type": "code",
   "execution_count": 162,
   "metadata": {},
   "outputs": [
    {
     "name": "stdout",
     "output_type": "stream",
     "text": [
      "t-statistic:  2.364121120207607 p-value:  0.009172686169212841\n"
     ]
    }
   ],
   "source": [
    "mean_assets_2009 = df_2009['Net_Assets'].mean()\n",
    "sample_2014 = np.array(df_2014['Net_Assets'].sample(700))\n",
    "t_all_asset, p_all_asset = scipy.stats.ttest_1samp(a = sample_2014, popmean = mean_assets_2009, alternative='greater')\n",
    "print('t-statistic: ',t_all_asset,'p-value: ',p_all_asset)"
   ]
  },
  {
   "cell_type": "code",
   "execution_count": 166,
   "metadata": {},
   "outputs": [
    {
     "name": "stdout",
     "output_type": "stream",
     "text": [
      "2.365811589583576 16595480.773693884 30287894.014285713\n"
     ]
    }
   ],
   "source": [
    "t = (np.mean(sample_2014) - mean_assets_2009)/(np.std(sample_2014)/np.sqrt(700))\n",
    "print(t,mean_assets_2009,np.mean(sample_2014))"
   ]
  },
  {
   "cell_type": "markdown",
   "metadata": {},
   "source": [
    "The pvalue obtained with this test is below the chosen significance level. Thus we can reject the null hypothesis. Thus the alternative hypothesis that average net assets have increased in 2014 compared to 2009 can be accepted"
   ]
  },
  {
   "cell_type": "markdown",
   "metadata": {},
   "source": [
    "### 2. The proportion of candidates with a criminal record has increased in 2014 compared to 2009. \n",
    "\n",
    "1. We can use a 1-sample z-test to test this hypothesis. We know the proportion of candidates in 2009 with crime records\n",
    "    This test requires the following conditions:\n",
    "    1. Choosing a random sample\n",
    "    2. Independence condition (Choose less than or equal to 10% of the population)\n",
    "    3. Normal condition (sampling dist of sample mean can be approximated as normal) if the following is satisfyed\n",
    "        1. n*p and n*(1-p) >= 10\n",
    "        \n",
    "1. Null Hypothesis: The proportion of candidates with a criminal record for 2014 is the equal to that in 2009\n",
    "2. Alternate Hypothesis: The proportion of candidates with a criminal record has increased between 2009 and 2014 (1 tailed test)\n",
    "- Significance Level: 5%"
   ]
  },
  {
   "cell_type": "code",
   "execution_count": 22,
   "metadata": {},
   "outputs": [],
   "source": [
    "#0.1*len(df_2009), 0.1*(len(df_2014))"
   ]
  },
  {
   "cell_type": "code",
   "execution_count": 201,
   "metadata": {},
   "outputs": [
    {
     "name": "stdout",
     "output_type": "stream",
     "text": [
      "n*p 100.89262273562615\n",
      "n*(1-p) 599.1073772643739\n"
     ]
    }
   ],
   "source": [
    "prop_2009_c = df_2009['criminal_charge'].value_counts(normalize=True)[1]\n",
    "prop_sample_2014_c = df_2014['criminal_charge'].sample(700)\n",
    "\n",
    "#Check normal condition\n",
    "print('n*p',len(prop_sample_2014_c)*prop_2009_c)\n",
    "print('n*(1-p)',len(prop_sample_2014_c)*(1-prop_2009_c))"
   ]
  },
  {
   "cell_type": "code",
   "execution_count": 202,
   "metadata": {},
   "outputs": [
    {
     "data": {
      "text/plain": [
       "(0    0.855868\n",
       " 1    0.144132\n",
       " Name: criminal_charge, dtype: float64,\n",
       " 0    0.828906\n",
       " 1    0.171094\n",
       " Name: criminal_charge, dtype: float64)"
      ]
     },
     "execution_count": 202,
     "metadata": {},
     "output_type": "execute_result"
    }
   ],
   "source": [
    "df_2009['criminal_charge'].value_counts(normalize=True),df_2014['criminal_charge'].value_counts(normalize=True)"
   ]
  },
  {
   "cell_type": "code",
   "execution_count": 203,
   "metadata": {},
   "outputs": [
    {
     "name": "stdout",
     "output_type": "stream",
     "text": [
      "z-statistic:  1.4390253591672493 p-value:  0.07507166896701442\n"
     ]
    }
   ],
   "source": [
    "z_all_c, p_all_c = sm.stats.proportions_ztest(count = prop_sample_2014_c.sum(),nobs=len(prop_sample_2014_c),\n",
    "                                               value=prop_2009_c,alternative='larger')\n",
    "print('z-statistic: ',z_all_c,'p-value: ',p_all_c)"
   ]
  },
  {
   "cell_type": "code",
   "execution_count": 204,
   "metadata": {},
   "outputs": [
    {
     "data": {
      "text/plain": [
       "0    0.835714\n",
       "1    0.164286\n",
       "Name: criminal_charge, dtype: float64"
      ]
     },
     "execution_count": 204,
     "metadata": {},
     "output_type": "execute_result"
    }
   ],
   "source": [
    "prop_sample_2014_c.value_counts(normalize=True)"
   ]
  },
  {
   "cell_type": "markdown",
   "metadata": {},
   "source": [
    "The p value is above our 5% significance level. Thus we fail to reject the null hypothesis which states that the proportion of criminal records is the same between 2009 and 2014"
   ]
  },
  {
   "cell_type": "markdown",
   "metadata": {},
   "source": [
    "### 3. The proportion of candidates with a graduate level eduction or higher has changed between 2009 and 2014. \n",
    "\n",
    "1. We can use a 1-sample z-test to test this hypothesis. We know the proportion of candidates in 2009 with a graduate level education or higher\n",
    "    This test requires the following conditions:\n",
    "    1. Choosing a random sample\n",
    "    2. Independence condition (Choose less than or equal to 10% of the population)\n",
    "    3. Normal condition (sampling dist of sample mean can be approximated as normal) if the following is satisfyed\n",
    "        1. n*p and n*(1-p) >= 10\n",
    "        \n",
    "1. Null Hypothesis: The proportion of candidates with a graduate level education or higher is the same between 2009 and 2014\n",
    "2. Alternate Hypothesis: The proportion of candidates with a graduate level education or higher between 2009 and 2014 is not the same (2-tailed test)\n",
    "- Significance Level: 5%"
   ]
  },
  {
   "cell_type": "code",
   "execution_count": 236,
   "metadata": {},
   "outputs": [
    {
     "data": {
      "text/plain": [
       "(0    0.566553\n",
       " 1    0.433447\n",
       " Name: grad_h, dtype: float64,\n",
       " 0    0.509505\n",
       " 1    0.490495\n",
       " Name: grad_h, dtype: float64)"
      ]
     },
     "execution_count": 236,
     "metadata": {},
     "output_type": "execute_result"
    }
   ],
   "source": [
    "df_2009['grad_h'].value_counts(normalize=True), df_2014['grad_h'].value_counts(normalize=True)"
   ]
  },
  {
   "cell_type": "code",
   "execution_count": 237,
   "metadata": {},
   "outputs": [
    {
     "data": {
      "text/plain": [
       "0    0.517143\n",
       "1    0.482857\n",
       "Name: grad_h, dtype: float64"
      ]
     },
     "execution_count": 237,
     "metadata": {},
     "output_type": "execute_result"
    }
   ],
   "source": [
    "prop_sample_2014_g.value_counts(normalize=True)"
   ]
  },
  {
   "cell_type": "code",
   "execution_count": 234,
   "metadata": {},
   "outputs": [
    {
     "name": "stdout",
     "output_type": "stream",
     "text": [
      "n*p 303.4129692832765\n",
      "n*(1-p) 396.5870307167235\n"
     ]
    }
   ],
   "source": [
    "prop_2009_g = df_2009['grad_h'].value_counts(normalize=True)[1]\n",
    "prop_sample_2014_g = df_2014['grad_h'].sample(700)\n",
    "\n",
    "#Check normal condition\n",
    "print('n*p',len(prop_sample_2014_g)*prop_2009_g)\n",
    "print('n*(1-p)',len(prop_sample_2014_g)*(1-prop_2009_g))"
   ]
  },
  {
   "cell_type": "code",
   "execution_count": 235,
   "metadata": {},
   "outputs": [
    {
     "name": "stdout",
     "output_type": "stream",
     "text": [
      "z-statistic:  2.6160718292597442 , p-value:  0.008894784374077367\n"
     ]
    }
   ],
   "source": [
    "z_all_g, p_all_g = sm.stats.proportions_ztest(count = prop_sample_2014_g.sum(),nobs=len(prop_sample_2014_g),\n",
    "                                               value=prop_2009_g,alternative='two-sided')\n",
    "print('z-statistic: ',z_all_g,', p-value: ',p_all_g)"
   ]
  },
  {
   "cell_type": "code",
   "execution_count": 222,
   "metadata": {},
   "outputs": [
    {
     "name": "stdout",
     "output_type": "stream",
     "text": [
      "z-statistic:  1.636004956710782 , p-value:  0.10183855001541076\n"
     ]
    }
   ],
   "source": [
    "z_all_g, p_all_g = sm.stats.proportions_ztest(count = prop_sample_2014_g.sum(),nobs=len(prop_sample_2014_g),\n",
    "                                               value=prop_2009_g,alternative='two-sided')\n",
    "print('z-statistic: ',z_all_g,', p-value: ',p_all_g)"
   ]
  },
  {
   "cell_type": "markdown",
   "metadata": {},
   "source": [
    "The p value is below our 5% significance level. Thus we can reject the null hypothesis and accept the alternate hypothesis that the number of candidates with a graduate level education or higher has changed between 2009 and 2014"
   ]
  },
  {
   "cell_type": "markdown",
   "metadata": {},
   "source": [
    "## Permutation Tests\n",
    "\n",
    "We can conduct two tailed permutation tests either between different years or between individual states for 2014 on the three criteria of net assets, criminal charges and graduate level education or higher\n",
    "\n",
    "Below are examples run between Maharashtra/Kerala, Maharashtra/Uttar Pradesh, Uttar Pradesh/Kerala and 2009/2014, 2014/2019"
   ]
  },
  {
   "cell_type": "code",
   "execution_count": 173,
   "metadata": {},
   "outputs": [],
   "source": [
    "#Bootstrap Test\n",
    "# def bs_rep_1samp(arr1,null_mean,size,bs):\n",
    "#     #arr1 = arr1.sample(size)\n",
    "#     obs_mean = np.mean(arr1)\n",
    "#     arr1_shift = arr1 - np.mean(arr1) + null_mean\n",
    "#     bs_rep = np.empty(bs)\n",
    "#     bs_t = np.empty(bs)\n",
    "#     for a in range(bs):\n",
    "#         arr_bs = np.random.choice(arr1_shift,size)\n",
    "#         bs_rep[a] = np.mean(arr_bs)\n",
    "#         bs_t[a] = (np.mean(arr_bs) - obs_mean) / (np.std(arr_bs)/np.sqrt(size))\n",
    "# #     if greater = True:\n",
    "# #         p_val = \n",
    "#     plt.hist(bs_rep)\n",
    "#     #print(obs_mean)\n",
    "#     plt.axvline(obs_mean,linewidth=1.5,color='r')\n",
    "#     return bs_rep, bs_t\n",
    "\n",
    "def bs_rep_2samp(arr1,arr2,size1,size2,bs):\n",
    "    #arr1 = arr1.sample(size)\n",
    "    cm_mean = np.mean(np.concatenate((arr1,arr2)));\n",
    "    obs_mean = np.mean(arr1) - np.mean(arr2);\n",
    "    arr1_shift = arr1 - np.mean(arr1) + cm_mean\n",
    "    arr2_shift = arr2 - np.mean(arr2) + cm_mean\n",
    "    bs_rep = np.empty(bs)\n",
    "    for a in range(bs):\n",
    "        arr_1_bs, arr_2_bs = np.random.choice(arr1_shift,size1), np.random.choice(arr2_shift,size2)\n",
    "        bs_rep[a] = np.mean(arr_1_bs) - np.mean(arr_2_bs)\n",
    "    #One sided p-value\n",
    "    p_val = np.sum(bs_rep>=obs_mean)/bs\n",
    "    #print(obs_mean)\n",
    "    \n",
    "    plt.figure(figsize=[10,6])\n",
    "    plt.hist(bs_rep)\n",
    "    plt.xlabel('Test Statistic')\n",
    "    plt.ylabel('Frequency')\n",
    "    plt.title('Distribution of bootstapped test statistic')\n",
    "    plt.axvline(obs_mean,linewidth=1.5,color='b')\n",
    "    \n",
    "    print('p-value: ',p_val)\n",
    "    return bs_rep\n",
    "\n",
    "#Functions to permute samples and run a 2-sample permutation test\n",
    "def perm_sample(arr1,arr2):\n",
    "    data = np.concatenate((arr1,arr2))\n",
    "    perm_data = np.random.permutation(data)\n",
    "    arr1_p = perm_data[:len(arr1)]\n",
    "    arr2_p = perm_data[len(arr1):]\n",
    "    return arr1_p, arr2_p\n",
    "\n",
    "def perm_test_2_samp(arr1,arr2,size=1000):\n",
    "    perm_repl = np.empty(size)\n",
    "    obs_stat = np.abs(np.mean(arr1) - np.mean(arr2))\n",
    "    print(obs_stat)\n",
    "    for a in range(size):\n",
    "        \n",
    "        arr1_p, arr2_p = perm_sample(arr1,arr2)\n",
    "        perm_repl[a] = np.abs(np.mean(arr1_p) - np.mean(arr2_p))\n",
    "        \n",
    "    #p_val = (np.sum(perm_repl>=obs_stat) + np.sum(perm_repl<=-obs_stat)) /len(perm_repl)\n",
    "    p_val = np.sum(perm_repl>=obs_stat) / len(perm_repl)\n",
    "    \n",
    "    if p_val<0.05:\n",
    "        print('Reject Null Hypothesis as p-value ',p_val,'< alpha=0.05')\n",
    "    else:\n",
    "        print('Fail to reject Null Hypothesis as p-value ',p_val,'> alpha=0.05')\n",
    "    plt.figure(figsize=[10,6])\n",
    "    plt.hist(perm_repl);\n",
    "    plt.xlabel('Test Statistic')\n",
    "    plt.ylabel('Frequency')\n",
    "    plt.title('Distribution of permuted test statistic')\n",
    "    plt.axvline(obs_stat,linewidth=1.5,color='b')\n",
    "    return perm_repl, p_val"
   ]
  },
  {
   "cell_type": "code",
   "execution_count": 3,
   "metadata": {},
   "outputs": [],
   "source": [
    "with open('state_level_clean.pkl', 'rb') as f:\n",
    "    state_wise_clean = pickle.load(f)\n",
    "df_Maharashtra = state_wise_clean['Maharashtra']\n",
    "df_Uttar_Pradesh = state_wise_clean['Uttar_Pradesh']\n",
    "df_Tamil_Nadu = state_wise_clean['Tamil_Nadu']\n",
    "df_Karnataka = state_wise_clean['Karnataka']\n",
    "df_Gujarat = state_wise_clean['Gujarat']\n",
    "df_Bihar = state_wise_clean['Bihar']\n",
    "df_Rajasthan = state_wise_clean['Rajasthan']\n",
    "df_Kerala = state_wise_clean['Kerala']\n",
    "df_West_Bengal = state_wise_clean['West_Bengal']"
   ]
  },
  {
   "cell_type": "code",
   "execution_count": 4,
   "metadata": {},
   "outputs": [],
   "source": [
    "mh_2014_assets = np.array(df_Maharashtra['Net_Assets'])\n",
    "kr_2014_assets = np.array(df_Kerala['Net_Assets'])\n",
    "up_2014_assets = np.array(df_Uttar_Pradesh['Net_Assets'])\n",
    "gj_2014_assets = np.array(df_Gujarat['Net_Assets'])\n",
    "\n",
    "mh_2014_cr = np.array(df_Maharashtra['criminal_charge'])\n",
    "kr_2014_cr = np.array(df_Kerala['criminal_charge'])\n",
    "up_2014_cr = np.array(df_Uttar_Pradesh['criminal_charge'])\n",
    "gj_2014_cr = np.array(df_Gujarat['criminal_charge'])\n",
    "\n",
    "mh_2014_g = np.array(df_Maharashtra['grad_h'])\n",
    "kr_2014_g = np.array(df_Kerala['grad_h'])\n",
    "up_2014_g = np.array(df_Uttar_Pradesh['grad_h'])\n",
    "gj_2014_g = np.array(df_Gujarat['grad_h'])"
   ]
  },
  {
   "cell_type": "code",
   "execution_count": 303,
   "metadata": {},
   "outputs": [],
   "source": [
    "assets_2009 = df_2009['Net_Assets']\n",
    "assets_2014 = df_2014['Net_Assets']\n",
    "assets_2019 = df_2019['Net_Assets']\n",
    "\n",
    "cr_2009 = df_2009['criminal_charge']\n",
    "cr_2014 = df_2014['criminal_charge']\n",
    "cr_2019 = df_2019['criminal_charge']\n",
    "\n",
    "grad_2009 = df_2009['grad_h']\n",
    "grad_2014 = df_2014['grad_h']\n",
    "grad_2019 = df_2019['grad_h']"
   ]
  },
  {
   "cell_type": "code",
   "execution_count": 310,
   "metadata": {},
   "outputs": [],
   "source": [
    "win_2009 = df_2009[df_2009['Winners']==1][['criminal_charge','Net_Assets','grad_h']]\n",
    "win_2014 = df_2014[df_2014['Winners']==1][['criminal_charge','Net_Assets','grad_h']]\n",
    "win_2019 = df_2019[df_2019['Winners']==1][['criminal_charge','Net_Assets','grad_h']]"
   ]
  },
  {
   "cell_type": "markdown",
   "metadata": {},
   "source": [
    "Comparing difference between winners and non-winners of 2009 in terms of assets, criminal charges and graduate level education or other. We try both 2-sample t/z tests, bootstrap and permutation tests"
   ]
  },
  {
   "cell_type": "code",
   "execution_count": 155,
   "metadata": {},
   "outputs": [],
   "source": [
    "wi_2009 = df_2009[df_2009['Winners']==1].sample(50)\n",
    "nw_2009 = df_2009[df_2009['Winners']!=1].sample(670)"
   ]
  },
  {
   "cell_type": "code",
   "execution_count": 183,
   "metadata": {},
   "outputs": [
    {
     "data": {
      "text/plain": [
       "(0.30268199233716475, 0.13246899661781286)"
      ]
     },
     "execution_count": 183,
     "metadata": {},
     "output_type": "execute_result"
    }
   ],
   "source": [
    "np.mean(df_2009[df_2009['Winners']==1]['criminal_charge']),np.mean(df_2009[df_2009['Winners']!=1]['criminal_charge'])"
   ]
  },
  {
   "cell_type": "code",
   "execution_count": 157,
   "metadata": {},
   "outputs": [],
   "source": [
    "wi_a_2009 = np.array(wi_2009['Net_Assets'])\n",
    "wi_c_2009 = np.array(wi_2009['criminal_charge'])\n",
    "wi_g_2009 = np.array(wi_2009['grad_h'])\n",
    "nw_a_2009 = np.array(nw_2009['Net_Assets'])\n",
    "nw_c_2009 = np.array(nw_2009['criminal_charge'])\n",
    "nw_g_2009 = np.array(nw_2009['grad_h'])"
   ]
  },
  {
   "cell_type": "code",
   "execution_count": 158,
   "metadata": {},
   "outputs": [
    {
     "data": {
      "text/plain": [
       "Ttest_indResult(statistic=2.382109115246586, pvalue=0.010100065926048264)"
      ]
     },
     "execution_count": 158,
     "metadata": {},
     "output_type": "execute_result"
    }
   ],
   "source": [
    "scipy.stats.ttest_ind(a=wi_a_2009,b=nw_a_2009,equal_var=False,alternative='greater')"
   ]
  },
  {
   "cell_type": "code",
   "execution_count": 159,
   "metadata": {},
   "outputs": [
    {
     "data": {
      "text/plain": [
       "(2.7735944445735687, 0.002772037255916533)"
      ]
     },
     "execution_count": 159,
     "metadata": {},
     "output_type": "execute_result"
    }
   ],
   "source": [
    "sm.stats.proportions_ztest(count=np.array([np.sum(wi_c_2009),np.sum(nw_c_2009)]),\n",
    "                           nobs=np.array([len(wi_c_2009),len(nw_c_2009)]),\n",
    "                           value=0,alternative='larger')"
   ]
  },
  {
   "cell_type": "code",
   "execution_count": 160,
   "metadata": {},
   "outputs": [
    {
     "data": {
      "text/plain": [
       "(4.4193171839628835, 4.950661929545718e-06)"
      ]
     },
     "execution_count": 160,
     "metadata": {},
     "output_type": "execute_result"
    }
   ],
   "source": [
    "sm.stats.proportions_ztest(count=np.array([np.sum(wi_g_2009),np.sum(nw_g_2009)]),\n",
    "                           nobs=np.array([len(wi_g_2009),len(nw_g_2009)]),\n",
    "                           value=0,alternative='larger')"
   ]
  },
  {
   "cell_type": "code",
   "execution_count": 199,
   "metadata": {},
   "outputs": [
    {
     "name": "stdout",
     "output_type": "stream",
     "text": [
      "p-value:  0.01285\n"
     ]
    },
    {
     "data": {
      "image/png": "[encoded data removed]",
      "text/plain": [
       "<Figure size 720x432 with 1 Axes>"
      ]
     },
     "metadata": {},
     "output_type": "display_data"
    }
   ],
   "source": [
    "bs_replicates = bs_rep_2samp(wi_a_2009,nw_a_2009,size1=50,size2=670,bs=20000)\n",
    "plt.savefig('bs_2009_assets.png')"
   ]
  },
  {
   "cell_type": "code",
   "execution_count": 197,
   "metadata": {},
   "outputs": [
    {
     "name": "stdout",
     "output_type": "stream",
     "text": [
      "p-value:  0.0193\n"
     ]
    },
    {
     "data": {
      "image/png": "[encoded data removed]",
      "text/plain": [
       "<Figure size 720x432 with 1 Axes>"
      ]
     },
     "metadata": {},
     "output_type": "display_data"
    }
   ],
   "source": [
    "bs_replicates = bs_rep_2samp(wi_c_2009,nw_c_2009,size1=50,size2=670,bs=20000)\n",
    "plt.savefig('bs_2009_cr.png')"
   ]
  },
  {
   "cell_type": "code",
   "execution_count": 198,
   "metadata": {},
   "outputs": [
    {
     "name": "stdout",
     "output_type": "stream",
     "text": [
      "p-value:  0.0\n"
     ]
    },
    {
     "data": {
      "image/png": "[encoded data removed]",
      "text/plain": [
       "<Figure size 720x432 with 1 Axes>"
      ]
     },
     "metadata": {},
     "output_type": "display_data"
    }
   ],
   "source": [
    "bs_replicates = bs_rep_2samp(wi_g_2009,nw_g_2009,size1=50,size2=670,bs=20000)\n",
    "plt.savefig('bs_2009_g.png')"
   ]
  },
  {
   "cell_type": "code",
   "execution_count": 167,
   "metadata": {},
   "outputs": [
    {
     "data": {
      "image/png": "[encoded data removed]",
      "text/plain": [
       "<Figure size 720x432 with 1 Axes>"
      ]
     },
     "metadata": {},
     "output_type": "display_data"
    }
   ],
   "source": [
    "plt.figure(figsize=[10,6]);\n",
    "x = np.linspace(-4,4,1000);\n",
    "plt.plot(x, scipy.stats.norm.pdf(x,0,1),linewidth=2);\n",
    "px=np.linspace(1.96,4,100);\n",
    "plt.fill_between(px,scipy.stats.norm.pdf(px),color='b');\n",
    "hx=np.linspace(-4,-1.96,100);\n",
    "plt.fill_between(hx,scipy.stats.norm.pdf(hx),color='b');\n",
    "plt.xticks([]);\n",
    "plt.yticks([]);\n",
    "plt.ylim(ymin=0,ymax=0.41);\n",
    "plt.vlines(x=0,ymin=0,ymax=0.4,colors='black',linestyles='dashdot',linewidth=1.5);\n",
    "plt.savefig('two_tail.png')"
   ]
  },
  {
   "cell_type": "code",
   "execution_count": 168,
   "metadata": {},
   "outputs": [
    {
     "data": {
      "image/png": "[encoded data removed]",
      "text/plain": [
       "<Figure size 720x432 with 1 Axes>"
      ]
     },
     "metadata": {},
     "output_type": "display_data"
    }
   ],
   "source": [
    "plt.figure(figsize=[10,6]);\n",
    "x = np.linspace(-4,4,1000);\n",
    "plt.plot(x, scipy.stats.norm.pdf(x,0,1),linewidth=2);\n",
    "px=np.linspace(1.96,4,100);\n",
    "plt.fill_between(px,scipy.stats.norm.pdf(px),color='b');\n",
    "plt.xticks([]);\n",
    "plt.yticks([]);\n",
    "plt.ylim(ymin=0,ymax=0.41);\n",
    "plt.vlines(x=0,ymin=0,ymax=0.4,colors='black',linestyles='dashdot',linewidth=1.5);\n",
    "plt.savefig('right_tail.png')"
   ]
  },
  {
   "cell_type": "code",
   "execution_count": 169,
   "metadata": {},
   "outputs": [
    {
     "data": {
      "image/png": "[encoded data removed]",
      "text/plain": [
       "<Figure size 720x432 with 1 Axes>"
      ]
     },
     "metadata": {},
     "output_type": "display_data"
    }
   ],
   "source": [
    "plt.figure(figsize=[10,6]);\n",
    "x = np.linspace(-4,4,1000);\n",
    "plt.plot(x, scipy.stats.norm.pdf(x,0,1),linewidth=2);\n",
    "hx=np.linspace(-4,-1.96,100);\n",
    "plt.fill_between(hx,scipy.stats.norm.pdf(hx),color='b');\n",
    "plt.xticks([]);\n",
    "plt.yticks([]);\n",
    "plt.ylim(ymin=0,ymax=0.41);\n",
    "plt.vlines(x=0,ymin=0,ymax=0.4,colors='black',linestyles='dashdot',linewidth=1.5);\n",
    "plt.savefig('left_tail.png')"
   ]
  },
  {
   "cell_type": "code",
   "execution_count": null,
   "metadata": {},
   "outputs": [],
   "source": []
  }
 ],
 "metadata": {
  "kernelspec": {
   "display_name": "Python 3",
   "language": "python",
   "name": "python3"
  },
  "language_info": {
   "codemirror_mode": {
    "name": "ipython",
    "version": 3
   },
   "file_extension": ".py",
   "mimetype": "text/x-python",
   "name": "python",
   "nbconvert_exporter": "python",
   "pygments_lexer": "ipython3",
   "version": "3.8.3"
  }
 },
 "nbformat": 4,
 "nbformat_minor": 4
}
